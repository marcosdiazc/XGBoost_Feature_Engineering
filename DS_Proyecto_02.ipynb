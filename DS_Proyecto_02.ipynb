{
 "cells": [
  {
   "cell_type": "markdown",
   "metadata": {
    "id": "5n-IHJ-F3gUu"
   },
   "source": [
    "En la primera parte del proyecto aplicaremos un tratamiento a los valores atipicos, imputaremos valores faltantes y entreneramos un modelo identico al proyecto v1 para entender si con el preprocesamiento mejor el rendimiento de modelo.\n"
   ]
  },
  {
   "cell_type": "markdown",
   "metadata": {},
   "source": [
    "En una segunda instancia agregaremos mas features a los modelos de entrenamiento con tecnicas de encoding para la variable l3 y aplicaremos un modeo mas avanzando"
   ]
  },
  {
   "cell_type": "code",
   "execution_count": 3,
   "metadata": {},
   "outputs": [],
   "source": [
    "import pandas as pd\n",
    "import numpy as np\n",
    "import matplotlib.pyplot as plt\n",
    "import seaborn  as sns"
   ]
  },
  {
   "cell_type": "code",
   "execution_count": 4,
   "metadata": {
    "id": "PX4EyuDRFa3C"
   },
   "outputs": [
    {
     "data": {
      "text/html": [
       "<div>\n",
       "<style scoped>\n",
       "    .dataframe tbody tr th:only-of-type {\n",
       "        vertical-align: middle;\n",
       "    }\n",
       "\n",
       "    .dataframe tbody tr th {\n",
       "        vertical-align: top;\n",
       "    }\n",
       "\n",
       "    .dataframe thead th {\n",
       "        text-align: right;\n",
       "    }\n",
       "</style>\n",
       "<table border=\"1\" class=\"dataframe\">\n",
       "  <thead>\n",
       "    <tr style=\"text-align: right;\">\n",
       "      <th></th>\n",
       "      <th>start_date</th>\n",
       "      <th>end_date</th>\n",
       "      <th>created_on</th>\n",
       "      <th>lat</th>\n",
       "      <th>lon</th>\n",
       "      <th>l1</th>\n",
       "      <th>l2</th>\n",
       "      <th>l3</th>\n",
       "      <th>rooms</th>\n",
       "      <th>bedrooms</th>\n",
       "      <th>bathrooms</th>\n",
       "      <th>surface_total</th>\n",
       "      <th>surface_covered</th>\n",
       "      <th>price</th>\n",
       "      <th>currency</th>\n",
       "      <th>title</th>\n",
       "      <th>description</th>\n",
       "      <th>property_type</th>\n",
       "      <th>operation_type</th>\n",
       "    </tr>\n",
       "  </thead>\n",
       "  <tbody>\n",
       "    <tr>\n",
       "      <th>0</th>\n",
       "      <td>2019-10-17</td>\n",
       "      <td>2019-12-23</td>\n",
       "      <td>2019-10-17</td>\n",
       "      <td>-34.605880</td>\n",
       "      <td>-58.384949</td>\n",
       "      <td>Argentina</td>\n",
       "      <td>Capital Federal</td>\n",
       "      <td>San Cristobal</td>\n",
       "      <td>7.0</td>\n",
       "      <td>7.0</td>\n",
       "      <td>2.0</td>\n",
       "      <td>140.0</td>\n",
       "      <td>140.0</td>\n",
       "      <td>153000.0</td>\n",
       "      <td>USD</td>\n",
       "      <td>***Venta semipiso centro, ideal hostel*****</td>\n",
       "      <td>DESCRIPCION DE LA PROPIEDAD: Departamento de 1...</td>\n",
       "      <td>Departamento</td>\n",
       "      <td>Venta</td>\n",
       "    </tr>\n",
       "    <tr>\n",
       "      <th>1</th>\n",
       "      <td>2019-10-17</td>\n",
       "      <td>2019-11-21</td>\n",
       "      <td>2019-10-17</td>\n",
       "      <td>-34.624056</td>\n",
       "      <td>-58.412110</td>\n",
       "      <td>Argentina</td>\n",
       "      <td>Capital Federal</td>\n",
       "      <td>Boedo</td>\n",
       "      <td>2.0</td>\n",
       "      <td>1.0</td>\n",
       "      <td>2.0</td>\n",
       "      <td>70.0</td>\n",
       "      <td>58.0</td>\n",
       "      <td>159000.0</td>\n",
       "      <td>USD</td>\n",
       "      <td>Espectacular PH reciclado en Boedo sin expensas.</td>\n",
       "      <td>PH reciclado en Boedo a una cuadra de la plaz...</td>\n",
       "      <td>PH</td>\n",
       "      <td>Venta</td>\n",
       "    </tr>\n",
       "    <tr>\n",
       "      <th>2</th>\n",
       "      <td>2019-10-17</td>\n",
       "      <td>2019-11-01</td>\n",
       "      <td>2019-10-17</td>\n",
       "      <td>-34.593569</td>\n",
       "      <td>-58.427474</td>\n",
       "      <td>Argentina</td>\n",
       "      <td>Capital Federal</td>\n",
       "      <td>Palermo</td>\n",
       "      <td>2.0</td>\n",
       "      <td>1.0</td>\n",
       "      <td>1.0</td>\n",
       "      <td>45.0</td>\n",
       "      <td>45.0</td>\n",
       "      <td>125000.0</td>\n",
       "      <td>USD</td>\n",
       "      <td>Depto.tipo casa de 2 ambientes en Venta en Pal...</td>\n",
       "      <td>2 ambienets amplio , excelente estado , patio ...</td>\n",
       "      <td>PH</td>\n",
       "      <td>Venta</td>\n",
       "    </tr>\n",
       "    <tr>\n",
       "      <th>3</th>\n",
       "      <td>2019-10-17</td>\n",
       "      <td>2019-12-23</td>\n",
       "      <td>2019-10-17</td>\n",
       "      <td>-34.581294</td>\n",
       "      <td>-58.436754</td>\n",
       "      <td>Argentina</td>\n",
       "      <td>Capital Federal</td>\n",
       "      <td>Palermo</td>\n",
       "      <td>2.0</td>\n",
       "      <td>1.0</td>\n",
       "      <td>1.0</td>\n",
       "      <td>85.0</td>\n",
       "      <td>50.0</td>\n",
       "      <td>295000.0</td>\n",
       "      <td>USD</td>\n",
       "      <td>COSTA RICA 5800 / PALERMO HOLLYWOOD / VENTA PH...</td>\n",
       "      <td>HERMOSO PH EN PALERMO!!!2 AMBIENTES TOTALMENTE...</td>\n",
       "      <td>PH</td>\n",
       "      <td>Venta</td>\n",
       "    </tr>\n",
       "    <tr>\n",
       "      <th>4</th>\n",
       "      <td>2019-10-17</td>\n",
       "      <td>2020-03-11</td>\n",
       "      <td>2019-10-17</td>\n",
       "      <td>-34.914194</td>\n",
       "      <td>-57.938219</td>\n",
       "      <td>Argentina</td>\n",
       "      <td>Bs.As. G.B.A. Zona Sur</td>\n",
       "      <td>La Plata</td>\n",
       "      <td>2.0</td>\n",
       "      <td>1.0</td>\n",
       "      <td>1.0</td>\n",
       "      <td>50.0</td>\n",
       "      <td>35.0</td>\n",
       "      <td>40000.0</td>\n",
       "      <td>USD</td>\n",
       "      <td>58 entre 1 y 2  Venta de departamento en ph.1 ...</td>\n",
       "      <td>58 entre 1 y 2  Venta de departamento en PH. P...</td>\n",
       "      <td>PH</td>\n",
       "      <td>Venta</td>\n",
       "    </tr>\n",
       "  </tbody>\n",
       "</table>\n",
       "</div>"
      ],
      "text/plain": [
       "   start_date    end_date  created_on        lat        lon         l1  \\\n",
       "0  2019-10-17  2019-12-23  2019-10-17 -34.605880 -58.384949  Argentina   \n",
       "1  2019-10-17  2019-11-21  2019-10-17 -34.624056 -58.412110  Argentina   \n",
       "2  2019-10-17  2019-11-01  2019-10-17 -34.593569 -58.427474  Argentina   \n",
       "3  2019-10-17  2019-12-23  2019-10-17 -34.581294 -58.436754  Argentina   \n",
       "4  2019-10-17  2020-03-11  2019-10-17 -34.914194 -57.938219  Argentina   \n",
       "\n",
       "                       l2             l3  rooms  bedrooms  bathrooms  \\\n",
       "0         Capital Federal  San Cristobal    7.0       7.0        2.0   \n",
       "1         Capital Federal          Boedo    2.0       1.0        2.0   \n",
       "2         Capital Federal        Palermo    2.0       1.0        1.0   \n",
       "3         Capital Federal        Palermo    2.0       1.0        1.0   \n",
       "4  Bs.As. G.B.A. Zona Sur       La Plata    2.0       1.0        1.0   \n",
       "\n",
       "   surface_total  surface_covered     price currency  \\\n",
       "0          140.0            140.0  153000.0      USD   \n",
       "1           70.0             58.0  159000.0      USD   \n",
       "2           45.0             45.0  125000.0      USD   \n",
       "3           85.0             50.0  295000.0      USD   \n",
       "4           50.0             35.0   40000.0      USD   \n",
       "\n",
       "                                               title  \\\n",
       "0        ***Venta semipiso centro, ideal hostel*****   \n",
       "1   Espectacular PH reciclado en Boedo sin expensas.   \n",
       "2  Depto.tipo casa de 2 ambientes en Venta en Pal...   \n",
       "3  COSTA RICA 5800 / PALERMO HOLLYWOOD / VENTA PH...   \n",
       "4  58 entre 1 y 2  Venta de departamento en ph.1 ...   \n",
       "\n",
       "                                         description property_type  \\\n",
       "0  DESCRIPCION DE LA PROPIEDAD: Departamento de 1...  Departamento   \n",
       "1   PH reciclado en Boedo a una cuadra de la plaz...            PH   \n",
       "2  2 ambienets amplio , excelente estado , patio ...            PH   \n",
       "3  HERMOSO PH EN PALERMO!!!2 AMBIENTES TOTALMENTE...            PH   \n",
       "4  58 entre 1 y 2  Venta de departamento en PH. P...            PH   \n",
       "\n",
       "  operation_type  \n",
       "0          Venta  \n",
       "1          Venta  \n",
       "2          Venta  \n",
       "3          Venta  \n",
       "4          Venta  "
      ]
     },
     "execution_count": 4,
     "metadata": {},
     "output_type": "execute_result"
    }
   ],
   "source": [
    "data = pd.read_csv('DS_Proyecto_01_Datos_Properati.csv')\n",
    "data.head()"
   ]
  },
  {
   "cell_type": "code",
   "execution_count": 3,
   "metadata": {
    "id": "NBXHcpRi3gUx"
   },
   "outputs": [],
   "source": [
    "data = data[data.l2.isin(['Capital Federal']) &\n",
    "            data.property_type.isin(['Departamento', 'Casa', 'PH']) &\n",
    "            (data.surface_total <= 1000) & (data.surface_total>=15) & (data.price <= 4000000)\n",
    "            ]\n",
    "data = data[['price', 'rooms', 'bedrooms', 'bathrooms', 'surface_total', 'surface_covered', 'property_type','l3','title']]\n",
    "data=data[~(data.surface_covered>data.surface_total)]\n"
   ]
  },
  {
   "cell_type": "code",
   "execution_count": null,
   "metadata": {},
   "outputs": [],
   "source": []
  },
  {
   "cell_type": "markdown",
   "metadata": {},
   "source": [
    "Primero vamos aplicar el filtro de las 3 sigmas para tratar a los valores atipicos, esto lo aplicaremos para todas las variables del dataset que luego utilizaremos como predictoras"
   ]
  },
  {
   "cell_type": "code",
   "execution_count": 4,
   "metadata": {
    "id": "j8oNRucj3gUx"
   },
   "outputs": [],
   "source": [
    "def sigma_filter (df, column):\n",
    "    valor_medio = df[column].mean()\n",
    "    std = df[column].std()\n",
    "    minimo = valor_medio - 3 * std\n",
    "    maximo = valor_medio + 3 * std\n",
    "    filters = np.logical_or (data[column] < minimo , data[column] > maximo)\n",
    "    return df[~filters]\n"
   ]
  },
  {
   "cell_type": "code",
   "execution_count": 5,
   "metadata": {
    "colab": {
     "base_uri": "https://localhost:8080/"
    },
    "id": "ZkyucsmP3gUy",
    "outputId": "8e37437c-60a8-4777-fd72-f3cb24631d3c"
   },
   "outputs": [
    {
     "data": {
      "text/plain": [
       "(81096, 9)"
      ]
     },
     "execution_count": 5,
     "metadata": {},
     "output_type": "execute_result"
    }
   ],
   "source": [
    "data_sigma = sigma_filter(data,\"bedrooms\")\n",
    "data_sigma.shape"
   ]
  },
  {
   "cell_type": "code",
   "execution_count": 6,
   "metadata": {
    "colab": {
     "base_uri": "https://localhost:8080/",
     "height": 296
    },
    "id": "augsgHg63gUy",
    "outputId": "6918c290-8105-4b4f-8f04-e12ec902761d"
   },
   "outputs": [
    {
     "data": {
      "text/plain": [
       "<AxesSubplot:xlabel='bedrooms'>"
      ]
     },
     "execution_count": 6,
     "metadata": {},
     "output_type": "execute_result"
    },
    {
     "data": {
      "image/png": "[encoded data removed]",
      "text/plain": [
       "<Figure size 432x288 with 1 Axes>"
      ]
     },
     "metadata": {
      "needs_background": "light"
     },
     "output_type": "display_data"
    }
   ],
   "source": [
    "sns.boxplot(data = data_sigma, x = \"bedrooms\")"
   ]
  },
  {
   "cell_type": "markdown",
   "metadata": {},
   "source": [
    "Vemos en el grafico de caja y bigote que tras la aplicacion de la regla de 3 sigmas, ya no se ven outliers."
   ]
  },
  {
   "cell_type": "code",
   "execution_count": 7,
   "metadata": {
    "colab": {
     "base_uri": "https://localhost:8080/"
    },
    "id": "bzoqpD4B3gUy",
    "outputId": "9c6cb1e0-39e7-462b-bb3f-a382546926e0"
   },
   "outputs": [
    {
     "data": {
      "text/plain": [
       "(79783, 9)"
      ]
     },
     "execution_count": 7,
     "metadata": {},
     "output_type": "execute_result"
    }
   ],
   "source": [
    "data_sigma = sigma_filter(data,\"surface_total\")\n",
    "data_sigma.shape"
   ]
  },
  {
   "cell_type": "code",
   "execution_count": 8,
   "metadata": {
    "colab": {
     "base_uri": "https://localhost:8080/",
     "height": 297
    },
    "id": "ud9FEfgE3gUy",
    "outputId": "03e20fa7-59aa-4e63-d058-cc8eecf6cf0a"
   },
   "outputs": [
    {
     "data": {
      "text/plain": [
       "<AxesSubplot:xlabel='surface_total'>"
      ]
     },
     "execution_count": 8,
     "metadata": {},
     "output_type": "execute_result"
    },
    {
     "data": {
      "image/png": "[encoded data removed]",
      "text/plain": [
       "<Figure size 432x288 with 1 Axes>"
      ]
     },
     "metadata": {
      "needs_background": "light"
     },
     "output_type": "display_data"
    }
   ],
   "source": [
    "sns.boxplot(data = data_sigma, x = \"surface_total\")"
   ]
  },
  {
   "cell_type": "markdown",
   "metadata": {},
   "source": [
    "Vemos en el grafico de caja y bigote que tras la aplicacion de la regla de 3 sigmas, la reduccion de los outliers."
   ]
  },
  {
   "cell_type": "code",
   "execution_count": 9,
   "metadata": {
    "colab": {
     "base_uri": "https://localhost:8080/"
    },
    "id": "zvHsRJmB3gUz",
    "outputId": "ee41e879-b67b-4183-955a-019afb15e895"
   },
   "outputs": [
    {
     "data": {
      "text/plain": [
       "(79791, 9)"
      ]
     },
     "execution_count": 9,
     "metadata": {},
     "output_type": "execute_result"
    }
   ],
   "source": [
    "data_sigma = sigma_filter(data,\"surface_covered\")\n",
    "data_sigma.shape"
   ]
  },
  {
   "cell_type": "code",
   "execution_count": 10,
   "metadata": {
    "colab": {
     "base_uri": "https://localhost:8080/",
     "height": 297
    },
    "id": "qSO0tjLR3gUz",
    "outputId": "bf51b689-8202-4911-97bd-8ff4903b1e67"
   },
   "outputs": [
    {
     "data": {
      "text/plain": [
       "<AxesSubplot:xlabel='surface_covered'>"
      ]
     },
     "execution_count": 10,
     "metadata": {},
     "output_type": "execute_result"
    },
    {
     "data": {
      "image/png": "[encoded data removed]",
      "text/plain": [
       "<Figure size 432x288 with 1 Axes>"
      ]
     },
     "metadata": {
      "needs_background": "light"
     },
     "output_type": "display_data"
    }
   ],
   "source": [
    "sns.boxplot(data = data_sigma, x = \"surface_covered\")"
   ]
  },
  {
   "cell_type": "markdown",
   "metadata": {},
   "source": [
    "Aqui vemos lo mismo que en el grafico anterior"
   ]
  },
  {
   "cell_type": "code",
   "execution_count": 11,
   "metadata": {
    "colab": {
     "base_uri": "https://localhost:8080/"
    },
    "id": "tJchDh8v3gUz",
    "outputId": "cb361f79-8e6d-4e14-f244-b5a4687d44b2"
   },
   "outputs": [
    {
     "data": {
      "text/plain": [
       "(80828, 9)"
      ]
     },
     "execution_count": 11,
     "metadata": {},
     "output_type": "execute_result"
    }
   ],
   "source": [
    "data_sigma = sigma_filter(data,\"bathrooms\")\n",
    "data_sigma.shape"
   ]
  },
  {
   "cell_type": "code",
   "execution_count": 12,
   "metadata": {
    "colab": {
     "base_uri": "https://localhost:8080/",
     "height": 296
    },
    "id": "hJYxVySU3gUz",
    "outputId": "df011642-bc2c-4945-b312-df88e1ff631a"
   },
   "outputs": [
    {
     "data": {
      "text/plain": [
       "<AxesSubplot:xlabel='bathrooms'>"
      ]
     },
     "execution_count": 12,
     "metadata": {},
     "output_type": "execute_result"
    },
    {
     "data": {
      "image/png": "[encoded data removed]",
      "text/plain": [
       "<Figure size 432x288 with 1 Axes>"
      ]
     },
     "metadata": {
      "needs_background": "light"
     },
     "output_type": "display_data"
    }
   ],
   "source": [
    "sns.boxplot(data = data_sigma, x = \"bathrooms\")"
   ]
  },
  {
   "cell_type": "markdown",
   "metadata": {},
   "source": [
    "Nuevamente lo mismo, se reducen los outliers en menor proporcion que antes."
   ]
  },
  {
   "cell_type": "code",
   "execution_count": 13,
   "metadata": {
    "colab": {
     "base_uri": "https://localhost:8080/"
    },
    "id": "R2LldOzv3gUz",
    "outputId": "42a71099-582c-4ecd-f8f5-9427055c59e2"
   },
   "outputs": [
    {
     "data": {
      "text/plain": [
       "(80362, 9)"
      ]
     },
     "execution_count": 13,
     "metadata": {},
     "output_type": "execute_result"
    }
   ],
   "source": [
    "data_sigma = sigma_filter(data,\"rooms\")\n",
    "data_sigma.shape"
   ]
  },
  {
   "cell_type": "code",
   "execution_count": 14,
   "metadata": {
    "colab": {
     "base_uri": "https://localhost:8080/",
     "height": 296
    },
    "id": "NViTzRFn3gUz",
    "outputId": "7b7bee83-36bb-4e9a-b249-29334db01b93"
   },
   "outputs": [
    {
     "data": {
      "text/plain": [
       "<AxesSubplot:xlabel='rooms'>"
      ]
     },
     "execution_count": 14,
     "metadata": {},
     "output_type": "execute_result"
    },
    {
     "data": {
      "image/png": "[encoded data removed]",
      "text/plain": [
       "<Figure size 432x288 with 1 Axes>"
      ]
     },
     "metadata": {
      "needs_background": "light"
     },
     "output_type": "display_data"
    }
   ],
   "source": [
    "sns.boxplot(data = data_sigma, x = \"rooms\")"
   ]
  },
  {
   "cell_type": "markdown",
   "metadata": {},
   "source": [
    "Por ultimo, aplicamos este tratamiento a nuestra ultima variable predictora \"rooms\"."
   ]
  },
  {
   "cell_type": "code",
   "execution_count": 15,
   "metadata": {},
   "outputs": [
    {
     "data": {
      "text/plain": [
       "<function matplotlib.pyplot.show(close=None, block=None)>"
      ]
     },
     "execution_count": 15,
     "metadata": {},
     "output_type": "execute_result"
    },
    {
     "data": {
      "image/png": "[encoded data removed]",
      "text/plain": [
       "<Figure size 576x576 with 2 Axes>"
      ]
     },
     "metadata": {
      "needs_background": "light"
     },
     "output_type": "display_data"
    }
   ],
   "source": [
    "corr1 = data.corr()\n",
    "\n",
    "plt.figure(figsize=(8,8))\n",
    "sns.heatmap(corr1,cbar = True, square = True, annot = True, fmt = \".3f\", annot_kws={\"size\":10}, cmap  = \"coolwarm\")\n",
    "plt.xticks(rotation=45)\n",
    "plt.yticks(rotation=45)\n",
    "plt.show"
   ]
  },
  {
   "cell_type": "markdown",
   "metadata": {},
   "source": [
    "Vemos la correlaciones entre las variables como lo hicimos en el proyecto1"
   ]
  },
  {
   "cell_type": "code",
   "execution_count": 16,
   "metadata": {},
   "outputs": [],
   "source": [
    "data_1 = data.copy()"
   ]
  },
  {
   "cell_type": "code",
   "execution_count": 17,
   "metadata": {
    "id": "28SA8jWJ3gUz"
   },
   "outputs": [],
   "source": [
    "from sklearn.pipeline import Pipeline\n",
    "from sklearn.impute import SimpleImputer\n",
    "from sklearn.preprocessing import OneHotEncoder\n",
    "from sklearn.preprocessing import LabelEncoder\n"
   ]
  },
  {
   "cell_type": "code",
   "execution_count": 18,
   "metadata": {
    "id": "zLcURc7u3gUz"
   },
   "outputs": [],
   "source": [
    "data_encode = data_1[[\"l3\"]]"
   ]
  },
  {
   "cell_type": "code",
   "execution_count": 19,
   "metadata": {
    "id": "fqUtJTK13gUz"
   },
   "outputs": [],
   "source": [
    "one = OneHotEncoder(handle_unknown = \"ignore\")\n",
    "data_encode = pd.DataFrame(one.fit_transform(data_encode).toarray())"
   ]
  },
  {
   "cell_type": "markdown",
   "metadata": {},
   "source": [
    "Aplicamos One hot encoder para utilizar estas dos variables como predictoras, transformandolas en numeros para que nuestro modelo las pueda utilizar."
   ]
  },
  {
   "cell_type": "code",
   "execution_count": 20,
   "metadata": {
    "colab": {
     "base_uri": "https://localhost:8080/",
     "height": 224
    },
    "id": "gwd_9Nlg3gUz",
    "outputId": "7922fc50-277c-4f8b-c98b-1c520501544e"
   },
   "outputs": [
    {
     "data": {
      "text/html": [
       "<div>\n",
       "<style scoped>\n",
       "    .dataframe tbody tr th:only-of-type {\n",
       "        vertical-align: middle;\n",
       "    }\n",
       "\n",
       "    .dataframe tbody tr th {\n",
       "        vertical-align: top;\n",
       "    }\n",
       "\n",
       "    .dataframe thead th {\n",
       "        text-align: right;\n",
       "    }\n",
       "</style>\n",
       "<table border=\"1\" class=\"dataframe\">\n",
       "  <thead>\n",
       "    <tr style=\"text-align: right;\">\n",
       "      <th></th>\n",
       "      <th>0</th>\n",
       "      <th>1</th>\n",
       "      <th>2</th>\n",
       "      <th>3</th>\n",
       "      <th>4</th>\n",
       "      <th>5</th>\n",
       "      <th>6</th>\n",
       "      <th>7</th>\n",
       "      <th>8</th>\n",
       "      <th>9</th>\n",
       "      <th>...</th>\n",
       "      <th>47</th>\n",
       "      <th>48</th>\n",
       "      <th>49</th>\n",
       "      <th>50</th>\n",
       "      <th>51</th>\n",
       "      <th>52</th>\n",
       "      <th>53</th>\n",
       "      <th>54</th>\n",
       "      <th>55</th>\n",
       "      <th>56</th>\n",
       "    </tr>\n",
       "  </thead>\n",
       "  <tbody>\n",
       "    <tr>\n",
       "      <th>0</th>\n",
       "      <td>0.0</td>\n",
       "      <td>0.0</td>\n",
       "      <td>0.0</td>\n",
       "      <td>0.0</td>\n",
       "      <td>0.0</td>\n",
       "      <td>0.0</td>\n",
       "      <td>0.0</td>\n",
       "      <td>0.0</td>\n",
       "      <td>0.0</td>\n",
       "      <td>0.0</td>\n",
       "      <td>...</td>\n",
       "      <td>0.0</td>\n",
       "      <td>0.0</td>\n",
       "      <td>0.0</td>\n",
       "      <td>0.0</td>\n",
       "      <td>0.0</td>\n",
       "      <td>0.0</td>\n",
       "      <td>0.0</td>\n",
       "      <td>0.0</td>\n",
       "      <td>0.0</td>\n",
       "      <td>0.0</td>\n",
       "    </tr>\n",
       "    <tr>\n",
       "      <th>1</th>\n",
       "      <td>0.0</td>\n",
       "      <td>0.0</td>\n",
       "      <td>0.0</td>\n",
       "      <td>0.0</td>\n",
       "      <td>0.0</td>\n",
       "      <td>0.0</td>\n",
       "      <td>0.0</td>\n",
       "      <td>0.0</td>\n",
       "      <td>1.0</td>\n",
       "      <td>0.0</td>\n",
       "      <td>...</td>\n",
       "      <td>0.0</td>\n",
       "      <td>0.0</td>\n",
       "      <td>0.0</td>\n",
       "      <td>0.0</td>\n",
       "      <td>0.0</td>\n",
       "      <td>0.0</td>\n",
       "      <td>0.0</td>\n",
       "      <td>0.0</td>\n",
       "      <td>0.0</td>\n",
       "      <td>0.0</td>\n",
       "    </tr>\n",
       "    <tr>\n",
       "      <th>2</th>\n",
       "      <td>0.0</td>\n",
       "      <td>0.0</td>\n",
       "      <td>0.0</td>\n",
       "      <td>0.0</td>\n",
       "      <td>0.0</td>\n",
       "      <td>0.0</td>\n",
       "      <td>0.0</td>\n",
       "      <td>0.0</td>\n",
       "      <td>0.0</td>\n",
       "      <td>0.0</td>\n",
       "      <td>...</td>\n",
       "      <td>0.0</td>\n",
       "      <td>0.0</td>\n",
       "      <td>0.0</td>\n",
       "      <td>0.0</td>\n",
       "      <td>0.0</td>\n",
       "      <td>0.0</td>\n",
       "      <td>0.0</td>\n",
       "      <td>0.0</td>\n",
       "      <td>0.0</td>\n",
       "      <td>0.0</td>\n",
       "    </tr>\n",
       "    <tr>\n",
       "      <th>3</th>\n",
       "      <td>0.0</td>\n",
       "      <td>0.0</td>\n",
       "      <td>0.0</td>\n",
       "      <td>0.0</td>\n",
       "      <td>0.0</td>\n",
       "      <td>0.0</td>\n",
       "      <td>0.0</td>\n",
       "      <td>0.0</td>\n",
       "      <td>0.0</td>\n",
       "      <td>0.0</td>\n",
       "      <td>...</td>\n",
       "      <td>0.0</td>\n",
       "      <td>0.0</td>\n",
       "      <td>0.0</td>\n",
       "      <td>0.0</td>\n",
       "      <td>0.0</td>\n",
       "      <td>0.0</td>\n",
       "      <td>0.0</td>\n",
       "      <td>0.0</td>\n",
       "      <td>0.0</td>\n",
       "      <td>0.0</td>\n",
       "    </tr>\n",
       "    <tr>\n",
       "      <th>4</th>\n",
       "      <td>0.0</td>\n",
       "      <td>0.0</td>\n",
       "      <td>0.0</td>\n",
       "      <td>0.0</td>\n",
       "      <td>0.0</td>\n",
       "      <td>0.0</td>\n",
       "      <td>0.0</td>\n",
       "      <td>0.0</td>\n",
       "      <td>0.0</td>\n",
       "      <td>0.0</td>\n",
       "      <td>...</td>\n",
       "      <td>0.0</td>\n",
       "      <td>0.0</td>\n",
       "      <td>0.0</td>\n",
       "      <td>0.0</td>\n",
       "      <td>0.0</td>\n",
       "      <td>0.0</td>\n",
       "      <td>0.0</td>\n",
       "      <td>0.0</td>\n",
       "      <td>0.0</td>\n",
       "      <td>0.0</td>\n",
       "    </tr>\n",
       "  </tbody>\n",
       "</table>\n",
       "<p>5 rows × 57 columns</p>\n",
       "</div>"
      ],
      "text/plain": [
       "    0    1    2    3    4    5    6    7    8    9   ...   47   48   49   50  \\\n",
       "0  0.0  0.0  0.0  0.0  0.0  0.0  0.0  0.0  0.0  0.0  ...  0.0  0.0  0.0  0.0   \n",
       "1  0.0  0.0  0.0  0.0  0.0  0.0  0.0  0.0  1.0  0.0  ...  0.0  0.0  0.0  0.0   \n",
       "2  0.0  0.0  0.0  0.0  0.0  0.0  0.0  0.0  0.0  0.0  ...  0.0  0.0  0.0  0.0   \n",
       "3  0.0  0.0  0.0  0.0  0.0  0.0  0.0  0.0  0.0  0.0  ...  0.0  0.0  0.0  0.0   \n",
       "4  0.0  0.0  0.0  0.0  0.0  0.0  0.0  0.0  0.0  0.0  ...  0.0  0.0  0.0  0.0   \n",
       "\n",
       "    51   52   53   54   55   56  \n",
       "0  0.0  0.0  0.0  0.0  0.0  0.0  \n",
       "1  0.0  0.0  0.0  0.0  0.0  0.0  \n",
       "2  0.0  0.0  0.0  0.0  0.0  0.0  \n",
       "3  0.0  0.0  0.0  0.0  0.0  0.0  \n",
       "4  0.0  0.0  0.0  0.0  0.0  0.0  \n",
       "\n",
       "[5 rows x 57 columns]"
      ]
     },
     "execution_count": 20,
     "metadata": {},
     "output_type": "execute_result"
    }
   ],
   "source": [
    "data_encode.head()"
   ]
  },
  {
   "cell_type": "code",
   "execution_count": 21,
   "metadata": {
    "colab": {
     "base_uri": "https://localhost:8080/"
    },
    "id": "6I8RxALD3gUz",
    "outputId": "9ecdb4ad-4bc2-4f73-fdf6-683015e98188"
   },
   "outputs": [
    {
     "data": {
      "text/plain": [
       "price                0\n",
       "rooms                0\n",
       "bedrooms             0\n",
       "bathrooms          872\n",
       "surface_total        0\n",
       "surface_covered    517\n",
       "property_type        0\n",
       "l3                   0\n",
       "title                0\n",
       "dtype: int64"
      ]
     },
     "execution_count": 21,
     "metadata": {},
     "output_type": "execute_result"
    }
   ],
   "source": [
    "data_1.isna().sum()"
   ]
  },
  {
   "cell_type": "markdown",
   "metadata": {},
   "source": [
    "Cuantos valores nulos tenemos?"
   ]
  },
  {
   "cell_type": "code",
   "execution_count": 22,
   "metadata": {
    "id": "dqWxGjnB3gU0"
   },
   "outputs": [],
   "source": [
    "data_1.drop([\"l3\",\"property_type\",\"title\",\"price\",\"surface_covered\"],axis = 1,inplace = True)\n"
   ]
  },
  {
   "cell_type": "markdown",
   "metadata": {},
   "source": [
    "Dropeamos las variables que no vamos a escalar."
   ]
  },
  {
   "cell_type": "code",
   "execution_count": 23,
   "metadata": {
    "colab": {
     "base_uri": "https://localhost:8080/",
     "height": 204
    },
    "id": "EulwCtdR3gU0",
    "outputId": "bc107b52-ffa3-4934-b1ab-a15007481434"
   },
   "outputs": [
    {
     "data": {
      "text/html": [
       "<div>\n",
       "<style scoped>\n",
       "    .dataframe tbody tr th:only-of-type {\n",
       "        vertical-align: middle;\n",
       "    }\n",
       "\n",
       "    .dataframe tbody tr th {\n",
       "        vertical-align: top;\n",
       "    }\n",
       "\n",
       "    .dataframe thead th {\n",
       "        text-align: right;\n",
       "    }\n",
       "</style>\n",
       "<table border=\"1\" class=\"dataframe\">\n",
       "  <thead>\n",
       "    <tr style=\"text-align: right;\">\n",
       "      <th></th>\n",
       "      <th>rooms</th>\n",
       "      <th>bedrooms</th>\n",
       "      <th>bathrooms</th>\n",
       "      <th>surface_total</th>\n",
       "    </tr>\n",
       "  </thead>\n",
       "  <tbody>\n",
       "    <tr>\n",
       "      <th>0</th>\n",
       "      <td>7.0</td>\n",
       "      <td>7.0</td>\n",
       "      <td>2.0</td>\n",
       "      <td>140.0</td>\n",
       "    </tr>\n",
       "    <tr>\n",
       "      <th>1</th>\n",
       "      <td>2.0</td>\n",
       "      <td>1.0</td>\n",
       "      <td>2.0</td>\n",
       "      <td>70.0</td>\n",
       "    </tr>\n",
       "    <tr>\n",
       "      <th>2</th>\n",
       "      <td>2.0</td>\n",
       "      <td>1.0</td>\n",
       "      <td>1.0</td>\n",
       "      <td>45.0</td>\n",
       "    </tr>\n",
       "    <tr>\n",
       "      <th>3</th>\n",
       "      <td>2.0</td>\n",
       "      <td>1.0</td>\n",
       "      <td>1.0</td>\n",
       "      <td>85.0</td>\n",
       "    </tr>\n",
       "    <tr>\n",
       "      <th>5</th>\n",
       "      <td>2.0</td>\n",
       "      <td>1.0</td>\n",
       "      <td>1.0</td>\n",
       "      <td>56.0</td>\n",
       "    </tr>\n",
       "  </tbody>\n",
       "</table>\n",
       "</div>"
      ],
      "text/plain": [
       "   rooms  bedrooms  bathrooms  surface_total\n",
       "0    7.0       7.0        2.0          140.0\n",
       "1    2.0       1.0        2.0           70.0\n",
       "2    2.0       1.0        1.0           45.0\n",
       "3    2.0       1.0        1.0           85.0\n",
       "5    2.0       1.0        1.0           56.0"
      ]
     },
     "execution_count": 23,
     "metadata": {},
     "output_type": "execute_result"
    }
   ],
   "source": [
    "data_1.head()"
   ]
  },
  {
   "cell_type": "markdown",
   "metadata": {},
   "source": [
    "Escalamos los datos para poder imputar nuestros valores null"
   ]
  },
  {
   "cell_type": "code",
   "execution_count": 24,
   "metadata": {
    "id": "p8XhwUQk3gU0"
   },
   "outputs": [],
   "source": [
    "from sklearn.preprocessing import StandardScaler"
   ]
  },
  {
   "cell_type": "code",
   "execution_count": 25,
   "metadata": {
    "id": "66Oph37O3gU0"
   },
   "outputs": [],
   "source": [
    "scaler = StandardScaler()"
   ]
  },
  {
   "cell_type": "code",
   "execution_count": 26,
   "metadata": {
    "colab": {
     "base_uri": "https://localhost:8080/",
     "height": 419
    },
    "id": "EeSyhJzs3gU0",
    "outputId": "36400fab-7952-4186-f0ca-65edc299ffca"
   },
   "outputs": [
    {
     "data": {
      "text/html": [
       "<div>\n",
       "<style scoped>\n",
       "    .dataframe tbody tr th:only-of-type {\n",
       "        vertical-align: middle;\n",
       "    }\n",
       "\n",
       "    .dataframe tbody tr th {\n",
       "        vertical-align: top;\n",
       "    }\n",
       "\n",
       "    .dataframe thead th {\n",
       "        text-align: right;\n",
       "    }\n",
       "</style>\n",
       "<table border=\"1\" class=\"dataframe\">\n",
       "  <thead>\n",
       "    <tr style=\"text-align: right;\">\n",
       "      <th></th>\n",
       "      <th>rooms</th>\n",
       "      <th>bedrooms</th>\n",
       "      <th>bathrooms</th>\n",
       "      <th>surface_total</th>\n",
       "    </tr>\n",
       "  </thead>\n",
       "  <tbody>\n",
       "    <tr>\n",
       "      <th>0</th>\n",
       "      <td>3.081643</td>\n",
       "      <td>4.787409</td>\n",
       "      <td>0.525253</td>\n",
       "      <td>0.580170</td>\n",
       "    </tr>\n",
       "    <tr>\n",
       "      <th>1</th>\n",
       "      <td>-0.773705</td>\n",
       "      <td>-0.955076</td>\n",
       "      <td>0.525253</td>\n",
       "      <td>-0.327178</td>\n",
       "    </tr>\n",
       "    <tr>\n",
       "      <th>2</th>\n",
       "      <td>-0.773705</td>\n",
       "      <td>-0.955076</td>\n",
       "      <td>-0.650632</td>\n",
       "      <td>-0.651231</td>\n",
       "    </tr>\n",
       "    <tr>\n",
       "      <th>3</th>\n",
       "      <td>-0.773705</td>\n",
       "      <td>-0.955076</td>\n",
       "      <td>-0.650632</td>\n",
       "      <td>-0.132746</td>\n",
       "    </tr>\n",
       "    <tr>\n",
       "      <th>4</th>\n",
       "      <td>-0.773705</td>\n",
       "      <td>-0.955076</td>\n",
       "      <td>-0.650632</td>\n",
       "      <td>-0.508648</td>\n",
       "    </tr>\n",
       "    <tr>\n",
       "      <th>...</th>\n",
       "      <td>...</td>\n",
       "      <td>...</td>\n",
       "      <td>...</td>\n",
       "      <td>...</td>\n",
       "    </tr>\n",
       "    <tr>\n",
       "      <th>81617</th>\n",
       "      <td>0.768434</td>\n",
       "      <td>0.959086</td>\n",
       "      <td>1.701138</td>\n",
       "      <td>1.033843</td>\n",
       "    </tr>\n",
       "    <tr>\n",
       "      <th>81618</th>\n",
       "      <td>-0.002636</td>\n",
       "      <td>0.002005</td>\n",
       "      <td>0.525253</td>\n",
       "      <td>0.632018</td>\n",
       "    </tr>\n",
       "    <tr>\n",
       "      <th>81619</th>\n",
       "      <td>0.768434</td>\n",
       "      <td>0.002005</td>\n",
       "      <td>0.525253</td>\n",
       "      <td>2.874463</td>\n",
       "    </tr>\n",
       "    <tr>\n",
       "      <th>81620</th>\n",
       "      <td>-0.002636</td>\n",
       "      <td>0.002005</td>\n",
       "      <td>0.525253</td>\n",
       "      <td>0.644980</td>\n",
       "    </tr>\n",
       "    <tr>\n",
       "      <th>81621</th>\n",
       "      <td>0.768434</td>\n",
       "      <td>0.959086</td>\n",
       "      <td>4.052908</td>\n",
       "      <td>1.617138</td>\n",
       "    </tr>\n",
       "  </tbody>\n",
       "</table>\n",
       "<p>81622 rows × 4 columns</p>\n",
       "</div>"
      ],
      "text/plain": [
       "          rooms  bedrooms  bathrooms  surface_total\n",
       "0      3.081643  4.787409   0.525253       0.580170\n",
       "1     -0.773705 -0.955076   0.525253      -0.327178\n",
       "2     -0.773705 -0.955076  -0.650632      -0.651231\n",
       "3     -0.773705 -0.955076  -0.650632      -0.132746\n",
       "4     -0.773705 -0.955076  -0.650632      -0.508648\n",
       "...         ...       ...        ...            ...\n",
       "81617  0.768434  0.959086   1.701138       1.033843\n",
       "81618 -0.002636  0.002005   0.525253       0.632018\n",
       "81619  0.768434  0.002005   0.525253       2.874463\n",
       "81620 -0.002636  0.002005   0.525253       0.644980\n",
       "81621  0.768434  0.959086   4.052908       1.617138\n",
       "\n",
       "[81622 rows x 4 columns]"
      ]
     },
     "execution_count": 26,
     "metadata": {},
     "output_type": "execute_result"
    }
   ],
   "source": [
    "data_escaled = pd.DataFrame(scaler.fit_transform(data_1),columns = data_1.columns)\n",
    "data_escaled"
   ]
  },
  {
   "cell_type": "markdown",
   "metadata": {},
   "source": [
    "Aplicamos un escalado de datos para imputar valores faltantes con KNNImputer(Esto predice nuestros valores faltantes de nuestro data set)"
   ]
  },
  {
   "cell_type": "code",
   "execution_count": 27,
   "metadata": {
    "id": "YMjO6IIx3gU0"
   },
   "outputs": [],
   "source": [
    "from sklearn.impute import KNNImputer"
   ]
  },
  {
   "cell_type": "code",
   "execution_count": 28,
   "metadata": {
    "id": "1_sPmRji3gU0"
   },
   "outputs": [],
   "source": [
    "imputer =  KNNImputer(n_neighbors = 5)"
   ]
  },
  {
   "cell_type": "markdown",
   "metadata": {},
   "source": [
    "Le indicamos la cantidad de vecinos"
   ]
  },
  {
   "cell_type": "code",
   "execution_count": 29,
   "metadata": {
    "colab": {
     "base_uri": "https://localhost:8080/",
     "height": 419
    },
    "id": "RHrBja7v3gU0",
    "outputId": "7dbb00bb-100e-4313-891a-cf09ad07b1c0"
   },
   "outputs": [
    {
     "data": {
      "text/html": [
       "<div>\n",
       "<style scoped>\n",
       "    .dataframe tbody tr th:only-of-type {\n",
       "        vertical-align: middle;\n",
       "    }\n",
       "\n",
       "    .dataframe tbody tr th {\n",
       "        vertical-align: top;\n",
       "    }\n",
       "\n",
       "    .dataframe thead th {\n",
       "        text-align: right;\n",
       "    }\n",
       "</style>\n",
       "<table border=\"1\" class=\"dataframe\">\n",
       "  <thead>\n",
       "    <tr style=\"text-align: right;\">\n",
       "      <th></th>\n",
       "      <th>rooms</th>\n",
       "      <th>bedrooms</th>\n",
       "      <th>bathrooms</th>\n",
       "      <th>surface_total</th>\n",
       "    </tr>\n",
       "  </thead>\n",
       "  <tbody>\n",
       "    <tr>\n",
       "      <th>0</th>\n",
       "      <td>3.081643</td>\n",
       "      <td>4.787409</td>\n",
       "      <td>0.525253</td>\n",
       "      <td>0.580170</td>\n",
       "    </tr>\n",
       "    <tr>\n",
       "      <th>1</th>\n",
       "      <td>-0.773705</td>\n",
       "      <td>-0.955076</td>\n",
       "      <td>0.525253</td>\n",
       "      <td>-0.327178</td>\n",
       "    </tr>\n",
       "    <tr>\n",
       "      <th>2</th>\n",
       "      <td>-0.773705</td>\n",
       "      <td>-0.955076</td>\n",
       "      <td>-0.650632</td>\n",
       "      <td>-0.651231</td>\n",
       "    </tr>\n",
       "    <tr>\n",
       "      <th>3</th>\n",
       "      <td>-0.773705</td>\n",
       "      <td>-0.955076</td>\n",
       "      <td>-0.650632</td>\n",
       "      <td>-0.132746</td>\n",
       "    </tr>\n",
       "    <tr>\n",
       "      <th>4</th>\n",
       "      <td>-0.773705</td>\n",
       "      <td>-0.955076</td>\n",
       "      <td>-0.650632</td>\n",
       "      <td>-0.508648</td>\n",
       "    </tr>\n",
       "    <tr>\n",
       "      <th>...</th>\n",
       "      <td>...</td>\n",
       "      <td>...</td>\n",
       "      <td>...</td>\n",
       "      <td>...</td>\n",
       "    </tr>\n",
       "    <tr>\n",
       "      <th>81617</th>\n",
       "      <td>0.768434</td>\n",
       "      <td>0.959086</td>\n",
       "      <td>1.701138</td>\n",
       "      <td>1.033843</td>\n",
       "    </tr>\n",
       "    <tr>\n",
       "      <th>81618</th>\n",
       "      <td>-0.002636</td>\n",
       "      <td>0.002005</td>\n",
       "      <td>0.525253</td>\n",
       "      <td>0.632018</td>\n",
       "    </tr>\n",
       "    <tr>\n",
       "      <th>81619</th>\n",
       "      <td>0.768434</td>\n",
       "      <td>0.002005</td>\n",
       "      <td>0.525253</td>\n",
       "      <td>2.874463</td>\n",
       "    </tr>\n",
       "    <tr>\n",
       "      <th>81620</th>\n",
       "      <td>-0.002636</td>\n",
       "      <td>0.002005</td>\n",
       "      <td>0.525253</td>\n",
       "      <td>0.644980</td>\n",
       "    </tr>\n",
       "    <tr>\n",
       "      <th>81621</th>\n",
       "      <td>0.768434</td>\n",
       "      <td>0.959086</td>\n",
       "      <td>4.052908</td>\n",
       "      <td>1.617138</td>\n",
       "    </tr>\n",
       "  </tbody>\n",
       "</table>\n",
       "<p>81622 rows × 4 columns</p>\n",
       "</div>"
      ],
      "text/plain": [
       "          rooms  bedrooms  bathrooms  surface_total\n",
       "0      3.081643  4.787409   0.525253       0.580170\n",
       "1     -0.773705 -0.955076   0.525253      -0.327178\n",
       "2     -0.773705 -0.955076  -0.650632      -0.651231\n",
       "3     -0.773705 -0.955076  -0.650632      -0.132746\n",
       "4     -0.773705 -0.955076  -0.650632      -0.508648\n",
       "...         ...       ...        ...            ...\n",
       "81617  0.768434  0.959086   1.701138       1.033843\n",
       "81618 -0.002636  0.002005   0.525253       0.632018\n",
       "81619  0.768434  0.002005   0.525253       2.874463\n",
       "81620 -0.002636  0.002005   0.525253       0.644980\n",
       "81621  0.768434  0.959086   4.052908       1.617138\n",
       "\n",
       "[81622 rows x 4 columns]"
      ]
     },
     "execution_count": 29,
     "metadata": {},
     "output_type": "execute_result"
    }
   ],
   "source": [
    "data_imputed = pd.DataFrame(imputer.fit_transform(data_escaled),columns = data_1.columns)\n",
    "data_imputed"
   ]
  },
  {
   "cell_type": "markdown",
   "metadata": {},
   "source": [
    "Ya no tenemos valores faltantes en nuestro dataset."
   ]
  },
  {
   "cell_type": "code",
   "execution_count": 30,
   "metadata": {
    "colab": {
     "base_uri": "https://localhost:8080/"
    },
    "id": "TP-q9BCx3gU0",
    "outputId": "f2c81439-7f9b-46fb-e9dd-38b26de941fb"
   },
   "outputs": [
    {
     "data": {
      "text/plain": [
       "rooms            0\n",
       "bedrooms         0\n",
       "bathrooms        0\n",
       "surface_total    0\n",
       "dtype: int64"
      ]
     },
     "execution_count": 30,
     "metadata": {},
     "output_type": "execute_result"
    }
   ],
   "source": [
    "data_imputed.isna().sum()"
   ]
  },
  {
   "cell_type": "markdown",
   "metadata": {},
   "source": [
    "Refrescamos los resultados de los modelos del primer proyecto"
   ]
  },
  {
   "cell_type": "markdown",
   "metadata": {},
   "source": [
    "Modelo: Árbol de Decisión Proyecto 1\n",
    "Raíz del error cuadrático medio en Train: 167227.41628580372\n",
    "Raíz del error cuadrático medio en Test: 174937.55658217394"
   ]
  },
  {
   "cell_type": "markdown",
   "metadata": {},
   "source": [
    "Modelo: Vecinos más cercanos Proyecto 1\n",
    "Raíz del error cuadrático medio en Train: 139627.08608090735\n",
    "Raíz del error cuadrático medio en Test: 168845.85024146654"
   ]
  },
  {
   "cell_type": "markdown",
   "metadata": {},
   "source": [
    "Modelo: Vecinos más cercanos Proyecto 1\n",
    "Raíz del error cuadrático medio en Train: 139627.08608090735\n",
    "Raíz del error cuadrático medio en Test: 168845.85024146654"
   ]
  },
  {
   "cell_type": "markdown",
   "metadata": {},
   "source": [
    "Entrenamos los 3 modelos del proyecto 1 con el tratamiento de los datos con las mismas variables predictoras"
   ]
  },
  {
   "cell_type": "code",
   "execution_count": 31,
   "metadata": {},
   "outputs": [
    {
     "name": "stdout",
     "output_type": "stream",
     "text": [
      "(57135, 4) (57135,) (24487, 4) (24487,)\n"
     ]
    }
   ],
   "source": [
    "from sklearn.model_selection import train_test_split\n",
    "\n",
    "X = data_imputed\n",
    "y = data.price\n",
    "X_train, X_test, y_train, y_test = train_test_split(\n",
    "    X, y, test_size=0.30, random_state=42)\n",
    "print(X_train.shape, y_train.shape, X_test.shape, y_test.shape)"
   ]
  },
  {
   "cell_type": "code",
   "execution_count": 32,
   "metadata": {},
   "outputs": [],
   "source": [
    "from sklearn.linear_model import LinearRegression\n",
    "from sklearn.tree import DecisionTreeRegressor\n",
    "from sklearn.neighbors import KNeighborsRegressor\n",
    "from sklearn.metrics import mean_squared_error"
   ]
  },
  {
   "cell_type": "code",
   "execution_count": 33,
   "metadata": {},
   "outputs": [],
   "source": [
    "linear_model = LinearRegression()\n",
    "tree_regressor = DecisionTreeRegressor(max_depth=7, random_state=42)\n",
    "knn_regressor = KNeighborsRegressor(n_neighbors=5)"
   ]
  },
  {
   "cell_type": "code",
   "execution_count": 34,
   "metadata": {},
   "outputs": [
    {
     "data": {
      "text/plain": [
       "KNeighborsRegressor()"
      ]
     },
     "execution_count": 34,
     "metadata": {},
     "output_type": "execute_result"
    }
   ],
   "source": [
    "linear_model.fit(X_train, y_train)\n",
    "tree_regressor.fit(X_train, y_train)\n",
    "knn_regressor.fit(X_train, y_train)"
   ]
  },
  {
   "cell_type": "code",
   "execution_count": 35,
   "metadata": {},
   "outputs": [
    {
     "name": "stdout",
     "output_type": "stream",
     "text": [
      "Modelo: Regresión lineal benchmark\n",
      "Raíz del error cuadrático medio en Train: 199935.79942782654\n",
      "Raíz del error cuadrático medio en Test: 201565.49065956168\n"
     ]
    },
    {
     "name": "stderr",
     "output_type": "stream",
     "text": [
      "C:\\Users\\Marcos\\.conda\\envs\\datascience\\lib\\site-packages\\seaborn\\distributions.py:2557: FutureWarning: `distplot` is a deprecated function and will be removed in a future version. Please adapt your code to use either `displot` (a figure-level function with similar flexibility) or `histplot` (an axes-level function for histograms).\n",
      "  warnings.warn(msg, FutureWarning)\n",
      "C:\\Users\\Marcos\\.conda\\envs\\datascience\\lib\\site-packages\\seaborn\\distributions.py:2557: FutureWarning: `distplot` is a deprecated function and will be removed in a future version. Please adapt your code to use either `displot` (a figure-level function with similar flexibility) or `histplot` (an axes-level function for histograms).\n",
      "  warnings.warn(msg, FutureWarning)\n"
     ]
    },
    {
     "data": {
      "image/png": "[encoded data removed]",
      "text/plain": [
       "<Figure size 576x288 with 2 Axes>"
      ]
     },
     "metadata": {
      "needs_background": "light"
     },
     "output_type": "display_data"
    },
    {
     "name": "stdout",
     "output_type": "stream",
     "text": [
      "Modelo: Árbol de Decisión\n",
      "Raíz del error cuadrático medio en Train: 165813.90124814774\n",
      "Raíz del error cuadrático medio en Test: 173082.0946788966\n"
     ]
    },
    {
     "name": "stderr",
     "output_type": "stream",
     "text": [
      "C:\\Users\\Marcos\\.conda\\envs\\datascience\\lib\\site-packages\\seaborn\\distributions.py:2557: FutureWarning: `distplot` is a deprecated function and will be removed in a future version. Please adapt your code to use either `displot` (a figure-level function with similar flexibility) or `histplot` (an axes-level function for histograms).\n",
      "  warnings.warn(msg, FutureWarning)\n",
      "C:\\Users\\Marcos\\.conda\\envs\\datascience\\lib\\site-packages\\seaborn\\distributions.py:2557: FutureWarning: `distplot` is a deprecated function and will be removed in a future version. Please adapt your code to use either `displot` (a figure-level function with similar flexibility) or `histplot` (an axes-level function for histograms).\n",
      "  warnings.warn(msg, FutureWarning)\n"
     ]
    },
    {
     "data": {
      "image/png": "[encoded data removed]",
      "text/plain": [
       "<Figure size 576x288 with 2 Axes>"
      ]
     },
     "metadata": {
      "needs_background": "light"
     },
     "output_type": "display_data"
    },
    {
     "name": "stdout",
     "output_type": "stream",
     "text": [
      "Modelo: Vecinos más cercanos\n",
      "Raíz del error cuadrático medio en Train: 138970.8178974687\n",
      "Raíz del error cuadrático medio en Test: 157159.95201376002\n"
     ]
    },
    {
     "name": "stderr",
     "output_type": "stream",
     "text": [
      "C:\\Users\\Marcos\\.conda\\envs\\datascience\\lib\\site-packages\\seaborn\\distributions.py:2557: FutureWarning: `distplot` is a deprecated function and will be removed in a future version. Please adapt your code to use either `displot` (a figure-level function with similar flexibility) or `histplot` (an axes-level function for histograms).\n",
      "  warnings.warn(msg, FutureWarning)\n",
      "C:\\Users\\Marcos\\.conda\\envs\\datascience\\lib\\site-packages\\seaborn\\distributions.py:2557: FutureWarning: `distplot` is a deprecated function and will be removed in a future version. Please adapt your code to use either `displot` (a figure-level function with similar flexibility) or `histplot` (an axes-level function for histograms).\n",
      "  warnings.warn(msg, FutureWarning)\n"
     ]
    },
    {
     "data": {
      "image/png": "[encoded data removed]",
      "text/plain": [
       "<Figure size 576x288 with 2 Axes>"
      ]
     },
     "metadata": {
      "needs_background": "light"
     },
     "output_type": "display_data"
    }
   ],
   "source": [
    "modelos = ['Regresión lineal benchmark', 'Árbol de Decisión', 'Vecinos más cercanos']\n",
    "\n",
    "for i, model in enumerate([linear_model, tree_regressor, knn_regressor]):\n",
    "    y_train_pred = model.predict(X_train)\n",
    "    y_test_pred = model.predict(X_test)\n",
    "    \n",
    "    print(f'Modelo: {modelos[i]}')\n",
    "    rmse_train = np.sqrt(mean_squared_error(y_train, y_train_pred))\n",
    "    rmse_test = np.sqrt(mean_squared_error(y_test, y_test_pred))\n",
    "    print(f'Raíz del error cuadrático medio en Train: {rmse_train}')\n",
    "    print(f'Raíz del error cuadrático medio en Test: {rmse_test}')\n",
    "    \n",
    "    plt.figure(figsize = (8,4))\n",
    "\n",
    "    plt.subplot(1,2,1)\n",
    "    sns.distplot(y_train - y_train_pred, bins = 20, label = 'train')\n",
    "    sns.distplot(y_test - y_test_pred, bins = 20, label = 'test')\n",
    "    plt.xlabel('errores')\n",
    "    plt.legend()\n",
    "\n",
    "    ax = plt.subplot(1,2,2)\n",
    "    ax.scatter(y_test,y_test_pred, s =2)    \n",
    "    lims = [\n",
    "    np.min([ax.get_xlim(), ax.get_ylim()]),  \n",
    "    np.max([ax.get_xlim(), ax.get_ylim()]),  \n",
    "    ]\n",
    "    \n",
    "    ax.plot(lims, lims, 'k-', alpha=0.75, zorder=0)\n",
    "    plt.xlabel('y (test)')\n",
    "    plt.ylabel('y_pred (test)')\n",
    "    \n",
    "    plt.tight_layout()\n",
    "    plt.show()"
   ]
  },
  {
   "cell_type": "code",
   "execution_count": 36,
   "metadata": {
    "id": "EV_0_Aqi3gU0"
   },
   "outputs": [],
   "source": [
    "from sklearn.linear_model import LinearRegression\n",
    "from sklearn.tree import DecisionTreeRegressor\n",
    "from sklearn.neighbors import KNeighborsRegressor\n",
    "from sklearn.ensemble import RandomForestClassifier\n",
    "import xgboost as xgb\n",
    "from sklearn.ensemble import GradientBoostingRegressor"
   ]
  },
  {
   "cell_type": "code",
   "execution_count": 37,
   "metadata": {},
   "outputs": [],
   "source": [
    "from sklearn.ensemble import GradientBoostingRegressor\n",
    "from sklearn.model_selection import cross_val_score\n",
    "from sklearn.model_selection import train_test_split\n",
    "from sklearn.model_selection import RepeatedKFold\n",
    "from sklearn.model_selection import KFold\n",
    "from sklearn.model_selection import GridSearchCV\n",
    "from sklearn.model_selection import ParameterGrid\n",
    "from sklearn.inspection import permutation_importance\n",
    "import multiprocessing\n"
   ]
  },
  {
   "cell_type": "code",
   "execution_count": 38,
   "metadata": {
    "id": "APJrcGN73gU0"
   },
   "outputs": [
    {
     "data": {
      "text/html": [
       "<div>\n",
       "<style scoped>\n",
       "    .dataframe tbody tr th:only-of-type {\n",
       "        vertical-align: middle;\n",
       "    }\n",
       "\n",
       "    .dataframe tbody tr th {\n",
       "        vertical-align: top;\n",
       "    }\n",
       "\n",
       "    .dataframe thead th {\n",
       "        text-align: right;\n",
       "    }\n",
       "</style>\n",
       "<table border=\"1\" class=\"dataframe\">\n",
       "  <thead>\n",
       "    <tr style=\"text-align: right;\">\n",
       "      <th></th>\n",
       "      <th>rooms</th>\n",
       "      <th>bedrooms</th>\n",
       "      <th>bathrooms</th>\n",
       "      <th>surface_total</th>\n",
       "      <th>0</th>\n",
       "      <th>1</th>\n",
       "      <th>2</th>\n",
       "      <th>3</th>\n",
       "      <th>4</th>\n",
       "      <th>5</th>\n",
       "      <th>...</th>\n",
       "      <th>47</th>\n",
       "      <th>48</th>\n",
       "      <th>49</th>\n",
       "      <th>50</th>\n",
       "      <th>51</th>\n",
       "      <th>52</th>\n",
       "      <th>53</th>\n",
       "      <th>54</th>\n",
       "      <th>55</th>\n",
       "      <th>56</th>\n",
       "    </tr>\n",
       "  </thead>\n",
       "  <tbody>\n",
       "    <tr>\n",
       "      <th>0</th>\n",
       "      <td>3.081643</td>\n",
       "      <td>4.787409</td>\n",
       "      <td>0.525253</td>\n",
       "      <td>0.580170</td>\n",
       "      <td>0.0</td>\n",
       "      <td>0.0</td>\n",
       "      <td>0.0</td>\n",
       "      <td>0.0</td>\n",
       "      <td>0.0</td>\n",
       "      <td>0.0</td>\n",
       "      <td>...</td>\n",
       "      <td>0.0</td>\n",
       "      <td>0.0</td>\n",
       "      <td>0.0</td>\n",
       "      <td>0.0</td>\n",
       "      <td>0.0</td>\n",
       "      <td>0.0</td>\n",
       "      <td>0.0</td>\n",
       "      <td>0.0</td>\n",
       "      <td>0.0</td>\n",
       "      <td>0.0</td>\n",
       "    </tr>\n",
       "    <tr>\n",
       "      <th>1</th>\n",
       "      <td>-0.773705</td>\n",
       "      <td>-0.955076</td>\n",
       "      <td>0.525253</td>\n",
       "      <td>-0.327178</td>\n",
       "      <td>0.0</td>\n",
       "      <td>0.0</td>\n",
       "      <td>0.0</td>\n",
       "      <td>0.0</td>\n",
       "      <td>0.0</td>\n",
       "      <td>0.0</td>\n",
       "      <td>...</td>\n",
       "      <td>0.0</td>\n",
       "      <td>0.0</td>\n",
       "      <td>0.0</td>\n",
       "      <td>0.0</td>\n",
       "      <td>0.0</td>\n",
       "      <td>0.0</td>\n",
       "      <td>0.0</td>\n",
       "      <td>0.0</td>\n",
       "      <td>0.0</td>\n",
       "      <td>0.0</td>\n",
       "    </tr>\n",
       "    <tr>\n",
       "      <th>2</th>\n",
       "      <td>-0.773705</td>\n",
       "      <td>-0.955076</td>\n",
       "      <td>-0.650632</td>\n",
       "      <td>-0.651231</td>\n",
       "      <td>0.0</td>\n",
       "      <td>0.0</td>\n",
       "      <td>0.0</td>\n",
       "      <td>0.0</td>\n",
       "      <td>0.0</td>\n",
       "      <td>0.0</td>\n",
       "      <td>...</td>\n",
       "      <td>0.0</td>\n",
       "      <td>0.0</td>\n",
       "      <td>0.0</td>\n",
       "      <td>0.0</td>\n",
       "      <td>0.0</td>\n",
       "      <td>0.0</td>\n",
       "      <td>0.0</td>\n",
       "      <td>0.0</td>\n",
       "      <td>0.0</td>\n",
       "      <td>0.0</td>\n",
       "    </tr>\n",
       "    <tr>\n",
       "      <th>3</th>\n",
       "      <td>-0.773705</td>\n",
       "      <td>-0.955076</td>\n",
       "      <td>-0.650632</td>\n",
       "      <td>-0.132746</td>\n",
       "      <td>0.0</td>\n",
       "      <td>0.0</td>\n",
       "      <td>0.0</td>\n",
       "      <td>0.0</td>\n",
       "      <td>0.0</td>\n",
       "      <td>0.0</td>\n",
       "      <td>...</td>\n",
       "      <td>0.0</td>\n",
       "      <td>0.0</td>\n",
       "      <td>0.0</td>\n",
       "      <td>0.0</td>\n",
       "      <td>0.0</td>\n",
       "      <td>0.0</td>\n",
       "      <td>0.0</td>\n",
       "      <td>0.0</td>\n",
       "      <td>0.0</td>\n",
       "      <td>0.0</td>\n",
       "    </tr>\n",
       "    <tr>\n",
       "      <th>4</th>\n",
       "      <td>-0.773705</td>\n",
       "      <td>-0.955076</td>\n",
       "      <td>-0.650632</td>\n",
       "      <td>-0.508648</td>\n",
       "      <td>0.0</td>\n",
       "      <td>0.0</td>\n",
       "      <td>0.0</td>\n",
       "      <td>0.0</td>\n",
       "      <td>0.0</td>\n",
       "      <td>0.0</td>\n",
       "      <td>...</td>\n",
       "      <td>0.0</td>\n",
       "      <td>0.0</td>\n",
       "      <td>0.0</td>\n",
       "      <td>0.0</td>\n",
       "      <td>0.0</td>\n",
       "      <td>0.0</td>\n",
       "      <td>0.0</td>\n",
       "      <td>0.0</td>\n",
       "      <td>0.0</td>\n",
       "      <td>0.0</td>\n",
       "    </tr>\n",
       "  </tbody>\n",
       "</table>\n",
       "<p>5 rows × 61 columns</p>\n",
       "</div>"
      ],
      "text/plain": [
       "      rooms  bedrooms  bathrooms  surface_total    0    1    2    3    4    5  \\\n",
       "0  3.081643  4.787409   0.525253       0.580170  0.0  0.0  0.0  0.0  0.0  0.0   \n",
       "1 -0.773705 -0.955076   0.525253      -0.327178  0.0  0.0  0.0  0.0  0.0  0.0   \n",
       "2 -0.773705 -0.955076  -0.650632      -0.651231  0.0  0.0  0.0  0.0  0.0  0.0   \n",
       "3 -0.773705 -0.955076  -0.650632      -0.132746  0.0  0.0  0.0  0.0  0.0  0.0   \n",
       "4 -0.773705 -0.955076  -0.650632      -0.508648  0.0  0.0  0.0  0.0  0.0  0.0   \n",
       "\n",
       "   ...   47   48   49   50   51   52   53   54   55   56  \n",
       "0  ...  0.0  0.0  0.0  0.0  0.0  0.0  0.0  0.0  0.0  0.0  \n",
       "1  ...  0.0  0.0  0.0  0.0  0.0  0.0  0.0  0.0  0.0  0.0  \n",
       "2  ...  0.0  0.0  0.0  0.0  0.0  0.0  0.0  0.0  0.0  0.0  \n",
       "3  ...  0.0  0.0  0.0  0.0  0.0  0.0  0.0  0.0  0.0  0.0  \n",
       "4  ...  0.0  0.0  0.0  0.0  0.0  0.0  0.0  0.0  0.0  0.0  \n",
       "\n",
       "[5 rows x 61 columns]"
      ]
     },
     "execution_count": 38,
     "metadata": {},
     "output_type": "execute_result"
    }
   ],
   "source": [
    "X = data_imputed.join(data_encode)\n",
    "\n",
    "X.head()"
   ]
  },
  {
   "cell_type": "code",
   "execution_count": 39,
   "metadata": {},
   "outputs": [
    {
     "data": {
      "text/html": [
       "<div>\n",
       "<style scoped>\n",
       "    .dataframe tbody tr th:only-of-type {\n",
       "        vertical-align: middle;\n",
       "    }\n",
       "\n",
       "    .dataframe tbody tr th {\n",
       "        vertical-align: top;\n",
       "    }\n",
       "\n",
       "    .dataframe thead th {\n",
       "        text-align: right;\n",
       "    }\n",
       "</style>\n",
       "<table border=\"1\" class=\"dataframe\">\n",
       "  <thead>\n",
       "    <tr style=\"text-align: right;\">\n",
       "      <th></th>\n",
       "      <th>rooms</th>\n",
       "      <th>bedrooms</th>\n",
       "      <th>bathrooms</th>\n",
       "      <th>surface_total</th>\n",
       "      <th>0</th>\n",
       "      <th>1</th>\n",
       "      <th>2</th>\n",
       "      <th>3</th>\n",
       "      <th>4</th>\n",
       "      <th>5</th>\n",
       "      <th>...</th>\n",
       "      <th>47</th>\n",
       "      <th>48</th>\n",
       "      <th>49</th>\n",
       "      <th>50</th>\n",
       "      <th>51</th>\n",
       "      <th>52</th>\n",
       "      <th>53</th>\n",
       "      <th>54</th>\n",
       "      <th>55</th>\n",
       "      <th>56</th>\n",
       "    </tr>\n",
       "  </thead>\n",
       "  <tbody>\n",
       "    <tr>\n",
       "      <th>count</th>\n",
       "      <td>8.162200e+04</td>\n",
       "      <td>8.162200e+04</td>\n",
       "      <td>81622.000000</td>\n",
       "      <td>8.162200e+04</td>\n",
       "      <td>81622.000000</td>\n",
       "      <td>81622.000000</td>\n",
       "      <td>81622.000000</td>\n",
       "      <td>81622.000000</td>\n",
       "      <td>81622.000000</td>\n",
       "      <td>81622.000000</td>\n",
       "      <td>...</td>\n",
       "      <td>81622.000000</td>\n",
       "      <td>81622.000000</td>\n",
       "      <td>81622.000000</td>\n",
       "      <td>81622.000000</td>\n",
       "      <td>81622.000000</td>\n",
       "      <td>81622.000000</td>\n",
       "      <td>81622.000000</td>\n",
       "      <td>81622.000000</td>\n",
       "      <td>81622.000000</td>\n",
       "      <td>81622.000000</td>\n",
       "    </tr>\n",
       "    <tr>\n",
       "      <th>mean</th>\n",
       "      <td>1.894270e-16</td>\n",
       "      <td>-1.002849e-16</td>\n",
       "      <td>0.000641</td>\n",
       "      <td>1.253561e-17</td>\n",
       "      <td>0.005011</td>\n",
       "      <td>0.001874</td>\n",
       "      <td>0.083654</td>\n",
       "      <td>0.029367</td>\n",
       "      <td>0.008368</td>\n",
       "      <td>0.038213</td>\n",
       "      <td>...</td>\n",
       "      <td>0.005758</td>\n",
       "      <td>0.006310</td>\n",
       "      <td>0.003063</td>\n",
       "      <td>0.008147</td>\n",
       "      <td>0.001580</td>\n",
       "      <td>0.000478</td>\n",
       "      <td>0.003724</td>\n",
       "      <td>0.000796</td>\n",
       "      <td>0.035946</td>\n",
       "      <td>0.015204</td>\n",
       "    </tr>\n",
       "    <tr>\n",
       "      <th>std</th>\n",
       "      <td>1.000006e+00</td>\n",
       "      <td>1.000006e+00</td>\n",
       "      <td>0.999583</td>\n",
       "      <td>1.000006e+00</td>\n",
       "      <td>0.070611</td>\n",
       "      <td>0.043255</td>\n",
       "      <td>0.276870</td>\n",
       "      <td>0.168834</td>\n",
       "      <td>0.091093</td>\n",
       "      <td>0.191711</td>\n",
       "      <td>...</td>\n",
       "      <td>0.075665</td>\n",
       "      <td>0.079182</td>\n",
       "      <td>0.055259</td>\n",
       "      <td>0.089895</td>\n",
       "      <td>0.039724</td>\n",
       "      <td>0.021854</td>\n",
       "      <td>0.060915</td>\n",
       "      <td>0.028209</td>\n",
       "      <td>0.186157</td>\n",
       "      <td>0.122365</td>\n",
       "    </tr>\n",
       "    <tr>\n",
       "      <th>min</th>\n",
       "      <td>-1.544775e+00</td>\n",
       "      <td>-1.912156e+00</td>\n",
       "      <td>-0.650632</td>\n",
       "      <td>-1.040094e+00</td>\n",
       "      <td>0.000000</td>\n",
       "      <td>0.000000</td>\n",
       "      <td>0.000000</td>\n",
       "      <td>0.000000</td>\n",
       "      <td>0.000000</td>\n",
       "      <td>0.000000</td>\n",
       "      <td>...</td>\n",
       "      <td>0.000000</td>\n",
       "      <td>0.000000</td>\n",
       "      <td>0.000000</td>\n",
       "      <td>0.000000</td>\n",
       "      <td>0.000000</td>\n",
       "      <td>0.000000</td>\n",
       "      <td>0.000000</td>\n",
       "      <td>0.000000</td>\n",
       "      <td>0.000000</td>\n",
       "      <td>0.000000</td>\n",
       "    </tr>\n",
       "    <tr>\n",
       "      <th>25%</th>\n",
       "      <td>-7.737053e-01</td>\n",
       "      <td>-9.550756e-01</td>\n",
       "      <td>-0.650632</td>\n",
       "      <td>-5.993824e-01</td>\n",
       "      <td>0.000000</td>\n",
       "      <td>0.000000</td>\n",
       "      <td>0.000000</td>\n",
       "      <td>0.000000</td>\n",
       "      <td>0.000000</td>\n",
       "      <td>0.000000</td>\n",
       "      <td>...</td>\n",
       "      <td>0.000000</td>\n",
       "      <td>0.000000</td>\n",
       "      <td>0.000000</td>\n",
       "      <td>0.000000</td>\n",
       "      <td>0.000000</td>\n",
       "      <td>0.000000</td>\n",
       "      <td>0.000000</td>\n",
       "      <td>0.000000</td>\n",
       "      <td>0.000000</td>\n",
       "      <td>0.000000</td>\n",
       "    </tr>\n",
       "    <tr>\n",
       "      <th>50%</th>\n",
       "      <td>-2.635667e-03</td>\n",
       "      <td>2.005107e-03</td>\n",
       "      <td>-0.650632</td>\n",
       "      <td>-3.142159e-01</td>\n",
       "      <td>0.000000</td>\n",
       "      <td>0.000000</td>\n",
       "      <td>0.000000</td>\n",
       "      <td>0.000000</td>\n",
       "      <td>0.000000</td>\n",
       "      <td>0.000000</td>\n",
       "      <td>...</td>\n",
       "      <td>0.000000</td>\n",
       "      <td>0.000000</td>\n",
       "      <td>0.000000</td>\n",
       "      <td>0.000000</td>\n",
       "      <td>0.000000</td>\n",
       "      <td>0.000000</td>\n",
       "      <td>0.000000</td>\n",
       "      <td>0.000000</td>\n",
       "      <td>0.000000</td>\n",
       "      <td>0.000000</td>\n",
       "    </tr>\n",
       "    <tr>\n",
       "      <th>75%</th>\n",
       "      <td>7.684339e-01</td>\n",
       "      <td>9.590858e-01</td>\n",
       "      <td>0.525253</td>\n",
       "      <td>1.913063e-01</td>\n",
       "      <td>0.000000</td>\n",
       "      <td>0.000000</td>\n",
       "      <td>0.000000</td>\n",
       "      <td>0.000000</td>\n",
       "      <td>0.000000</td>\n",
       "      <td>0.000000</td>\n",
       "      <td>...</td>\n",
       "      <td>0.000000</td>\n",
       "      <td>0.000000</td>\n",
       "      <td>0.000000</td>\n",
       "      <td>0.000000</td>\n",
       "      <td>0.000000</td>\n",
       "      <td>0.000000</td>\n",
       "      <td>0.000000</td>\n",
       "      <td>0.000000</td>\n",
       "      <td>0.000000</td>\n",
       "      <td>0.000000</td>\n",
       "    </tr>\n",
       "    <tr>\n",
       "      <th>max</th>\n",
       "      <td>1.773197e+01</td>\n",
       "      <td>1.244405e+01</td>\n",
       "      <td>14.635874</td>\n",
       "      <td>1.172758e+01</td>\n",
       "      <td>1.000000</td>\n",
       "      <td>1.000000</td>\n",
       "      <td>1.000000</td>\n",
       "      <td>1.000000</td>\n",
       "      <td>1.000000</td>\n",
       "      <td>1.000000</td>\n",
       "      <td>...</td>\n",
       "      <td>1.000000</td>\n",
       "      <td>1.000000</td>\n",
       "      <td>1.000000</td>\n",
       "      <td>1.000000</td>\n",
       "      <td>1.000000</td>\n",
       "      <td>1.000000</td>\n",
       "      <td>1.000000</td>\n",
       "      <td>1.000000</td>\n",
       "      <td>1.000000</td>\n",
       "      <td>1.000000</td>\n",
       "    </tr>\n",
       "  </tbody>\n",
       "</table>\n",
       "<p>8 rows × 61 columns</p>\n",
       "</div>"
      ],
      "text/plain": [
       "              rooms      bedrooms     bathrooms  surface_total             0  \\\n",
       "count  8.162200e+04  8.162200e+04  81622.000000   8.162200e+04  81622.000000   \n",
       "mean   1.894270e-16 -1.002849e-16      0.000641   1.253561e-17      0.005011   \n",
       "std    1.000006e+00  1.000006e+00      0.999583   1.000006e+00      0.070611   \n",
       "min   -1.544775e+00 -1.912156e+00     -0.650632  -1.040094e+00      0.000000   \n",
       "25%   -7.737053e-01 -9.550756e-01     -0.650632  -5.993824e-01      0.000000   \n",
       "50%   -2.635667e-03  2.005107e-03     -0.650632  -3.142159e-01      0.000000   \n",
       "75%    7.684339e-01  9.590858e-01      0.525253   1.913063e-01      0.000000   \n",
       "max    1.773197e+01  1.244405e+01     14.635874   1.172758e+01      1.000000   \n",
       "\n",
       "                  1             2             3             4             5  \\\n",
       "count  81622.000000  81622.000000  81622.000000  81622.000000  81622.000000   \n",
       "mean       0.001874      0.083654      0.029367      0.008368      0.038213   \n",
       "std        0.043255      0.276870      0.168834      0.091093      0.191711   \n",
       "min        0.000000      0.000000      0.000000      0.000000      0.000000   \n",
       "25%        0.000000      0.000000      0.000000      0.000000      0.000000   \n",
       "50%        0.000000      0.000000      0.000000      0.000000      0.000000   \n",
       "75%        0.000000      0.000000      0.000000      0.000000      0.000000   \n",
       "max        1.000000      1.000000      1.000000      1.000000      1.000000   \n",
       "\n",
       "       ...            47            48            49            50  \\\n",
       "count  ...  81622.000000  81622.000000  81622.000000  81622.000000   \n",
       "mean   ...      0.005758      0.006310      0.003063      0.008147   \n",
       "std    ...      0.075665      0.079182      0.055259      0.089895   \n",
       "min    ...      0.000000      0.000000      0.000000      0.000000   \n",
       "25%    ...      0.000000      0.000000      0.000000      0.000000   \n",
       "50%    ...      0.000000      0.000000      0.000000      0.000000   \n",
       "75%    ...      0.000000      0.000000      0.000000      0.000000   \n",
       "max    ...      1.000000      1.000000      1.000000      1.000000   \n",
       "\n",
       "                 51            52            53            54            55  \\\n",
       "count  81622.000000  81622.000000  81622.000000  81622.000000  81622.000000   \n",
       "mean       0.001580      0.000478      0.003724      0.000796      0.035946   \n",
       "std        0.039724      0.021854      0.060915      0.028209      0.186157   \n",
       "min        0.000000      0.000000      0.000000      0.000000      0.000000   \n",
       "25%        0.000000      0.000000      0.000000      0.000000      0.000000   \n",
       "50%        0.000000      0.000000      0.000000      0.000000      0.000000   \n",
       "75%        0.000000      0.000000      0.000000      0.000000      0.000000   \n",
       "max        1.000000      1.000000      1.000000      1.000000      1.000000   \n",
       "\n",
       "                 56  \n",
       "count  81622.000000  \n",
       "mean       0.015204  \n",
       "std        0.122365  \n",
       "min        0.000000  \n",
       "25%        0.000000  \n",
       "50%        0.000000  \n",
       "75%        0.000000  \n",
       "max        1.000000  \n",
       "\n",
       "[8 rows x 61 columns]"
      ]
     },
     "execution_count": 39,
     "metadata": {},
     "output_type": "execute_result"
    }
   ],
   "source": [
    "X.filter([\"rooms\",\"bathrooms\",\"surface_total\"])\n",
    "X.describe()"
   ]
  },
  {
   "cell_type": "code",
   "execution_count": 40,
   "metadata": {
    "colab": {
     "base_uri": "https://localhost:8080/"
    },
    "id": "-k82EFST3gU0",
    "outputId": "2156d775-4f28-4d33-f7f9-184453dbf51e"
   },
   "outputs": [
    {
     "data": {
      "text/plain": [
       "(81622, 61)"
      ]
     },
     "execution_count": 40,
     "metadata": {},
     "output_type": "execute_result"
    }
   ],
   "source": [
    "X.shape"
   ]
  },
  {
   "cell_type": "code",
   "execution_count": 41,
   "metadata": {
    "id": "lfD7LqK03gU0"
   },
   "outputs": [],
   "source": [
    "y = data[\"price\"]"
   ]
  },
  {
   "cell_type": "code",
   "execution_count": 42,
   "metadata": {
    "colab": {
     "base_uri": "https://localhost:8080/"
    },
    "id": "5XlhLM2fYx_e",
    "outputId": "98c3f8bf-7674-4b9f-b6c7-4dc032ad27b6"
   },
   "outputs": [
    {
     "data": {
      "text/plain": [
       "0    153000.0\n",
       "1    159000.0\n",
       "2    125000.0\n",
       "3    295000.0\n",
       "5    150000.0\n",
       "Name: price, dtype: float64"
      ]
     },
     "execution_count": 42,
     "metadata": {},
     "output_type": "execute_result"
    }
   ],
   "source": [
    "y.head()"
   ]
  },
  {
   "cell_type": "code",
   "execution_count": 43,
   "metadata": {
    "colab": {
     "base_uri": "https://localhost:8080/"
    },
    "id": "LjJuusSo3gU0",
    "outputId": "62bea4fb-89d2-4017-c872-03e9cc710098"
   },
   "outputs": [
    {
     "name": "stdout",
     "output_type": "stream",
     "text": [
      "(57135, 61) (57135,) (24487, 61) (24487,)\n"
     ]
    }
   ],
   "source": [
    "from sklearn.model_selection import train_test_split\n",
    "X_train, X_test, y_train, y_test = train_test_split(\n",
    "    X, y, test_size=0.30, random_state=42)\n",
    "print(X_train.shape, y_train.shape, X_test.shape, y_test.shape)"
   ]
  },
  {
   "cell_type": "code",
   "execution_count": 44,
   "metadata": {
    "id": "zGboMeyj3gU0"
   },
   "outputs": [],
   "source": [
    "linear_model = LinearRegression()\n",
    "tree_regressor = DecisionTreeRegressor(max_depth=7, random_state=42)\n",
    "knn_regressor = KNeighborsRegressor(n_neighbors=5)\n",
    "xgb_reg = xgb.XGBRegressor(n_estimators=100, max_depth=15, colsample_bytree = 1.0, learning_rate = 0.3)"
   ]
  },
  {
   "cell_type": "code",
   "execution_count": 45,
   "metadata": {
    "colab": {
     "base_uri": "https://localhost:8080/"
    },
    "id": "swoJhl8V3gU0",
    "outputId": "a8527a6b-a44f-4081-bf5c-3781e7ea2f65"
   },
   "outputs": [
    {
     "name": "stdout",
     "output_type": "stream",
     "text": [
      "[0]\tvalidation_0-rmse:291175.78125\tvalidation_1-rmse:293134.00000\n",
      "[1]\tvalidation_0-rmse:217594.28125\tvalidation_1-rmse:222794.92188\n",
      "[2]\tvalidation_0-rmse:166661.73438\tvalidation_1-rmse:177168.39062\n",
      "[3]\tvalidation_0-rmse:132036.00000\tvalidation_1-rmse:148185.57812\n",
      "[4]\tvalidation_0-rmse:107387.17188\tvalidation_1-rmse:129175.64844\n",
      "[5]\tvalidation_0-rmse:90929.67188\tvalidation_1-rmse:117955.97656\n",
      "[6]\tvalidation_0-rmse:79795.38281\tvalidation_1-rmse:111600.22656\n",
      "[7]\tvalidation_0-rmse:72201.88281\tvalidation_1-rmse:107914.03125\n",
      "[8]\tvalidation_0-rmse:66907.49219\tvalidation_1-rmse:105798.13281\n",
      "[9]\tvalidation_0-rmse:63343.67188\tvalidation_1-rmse:104663.68750\n",
      "[10]\tvalidation_0-rmse:60765.47656\tvalidation_1-rmse:104269.82031\n",
      "[11]\tvalidation_0-rmse:59082.23047\tvalidation_1-rmse:103978.67188\n",
      "[12]\tvalidation_0-rmse:57951.94141\tvalidation_1-rmse:103680.92969\n",
      "[13]\tvalidation_0-rmse:56977.40234\tvalidation_1-rmse:103585.03906\n",
      "[14]\tvalidation_0-rmse:56318.85938\tvalidation_1-rmse:103375.95312\n",
      "[15]\tvalidation_0-rmse:55827.10547\tvalidation_1-rmse:103411.80469\n",
      "[16]\tvalidation_0-rmse:55565.89062\tvalidation_1-rmse:103404.51562\n",
      "[17]\tvalidation_0-rmse:55100.19141\tvalidation_1-rmse:103519.33594\n",
      "[18]\tvalidation_0-rmse:54902.61719\tvalidation_1-rmse:103490.97656\n",
      "[19]\tvalidation_0-rmse:54632.18359\tvalidation_1-rmse:103482.35156\n",
      "[20]\tvalidation_0-rmse:54447.44922\tvalidation_1-rmse:103473.59375\n",
      "[21]\tvalidation_0-rmse:54307.44531\tvalidation_1-rmse:103446.18750\n",
      "[22]\tvalidation_0-rmse:53842.14844\tvalidation_1-rmse:103534.07031\n",
      "[23]\tvalidation_0-rmse:53743.46094\tvalidation_1-rmse:103504.82031\n",
      "[24]\tvalidation_0-rmse:53509.23438\tvalidation_1-rmse:103459.92969\n",
      "[25]\tvalidation_0-rmse:53404.89453\tvalidation_1-rmse:103434.25000\n",
      "[26]\tvalidation_0-rmse:53209.56250\tvalidation_1-rmse:103398.10156\n",
      "[27]\tvalidation_0-rmse:52942.05469\tvalidation_1-rmse:103351.77344\n",
      "[28]\tvalidation_0-rmse:52897.50391\tvalidation_1-rmse:103352.71875\n",
      "[29]\tvalidation_0-rmse:52832.62109\tvalidation_1-rmse:103337.71875\n",
      "[30]\tvalidation_0-rmse:52681.14062\tvalidation_1-rmse:103314.22656\n",
      "[31]\tvalidation_0-rmse:52382.16797\tvalidation_1-rmse:103286.39062\n",
      "[32]\tvalidation_0-rmse:52277.13281\tvalidation_1-rmse:103263.17969\n",
      "[33]\tvalidation_0-rmse:52127.03125\tvalidation_1-rmse:103296.65625\n",
      "[34]\tvalidation_0-rmse:52074.29688\tvalidation_1-rmse:103270.98438\n",
      "[35]\tvalidation_0-rmse:51982.85156\tvalidation_1-rmse:103264.05469\n",
      "[36]\tvalidation_0-rmse:51937.72266\tvalidation_1-rmse:103228.03906\n",
      "[37]\tvalidation_0-rmse:51856.93750\tvalidation_1-rmse:103218.93750\n",
      "[38]\tvalidation_0-rmse:51689.61719\tvalidation_1-rmse:103249.15625\n",
      "[39]\tvalidation_0-rmse:51419.29297\tvalidation_1-rmse:103218.95312\n",
      "[40]\tvalidation_0-rmse:51341.41406\tvalidation_1-rmse:103210.36719\n",
      "[41]\tvalidation_0-rmse:51316.44922\tvalidation_1-rmse:103218.98438\n",
      "[42]\tvalidation_0-rmse:51060.85156\tvalidation_1-rmse:103176.67969\n",
      "[43]\tvalidation_0-rmse:50977.38281\tvalidation_1-rmse:103200.78125\n",
      "[44]\tvalidation_0-rmse:50610.80859\tvalidation_1-rmse:103219.91406\n",
      "[45]\tvalidation_0-rmse:50388.54297\tvalidation_1-rmse:103195.11719\n",
      "[46]\tvalidation_0-rmse:50242.72266\tvalidation_1-rmse:103170.57031\n",
      "[47]\tvalidation_0-rmse:50125.94922\tvalidation_1-rmse:103189.61719\n",
      "[48]\tvalidation_0-rmse:49967.05469\tvalidation_1-rmse:103244.19531\n",
      "[49]\tvalidation_0-rmse:49908.09375\tvalidation_1-rmse:103245.47656\n",
      "[50]\tvalidation_0-rmse:49872.94922\tvalidation_1-rmse:103234.51562\n",
      "[51]\tvalidation_0-rmse:49850.78516\tvalidation_1-rmse:103235.21094\n",
      "[52]\tvalidation_0-rmse:49786.76562\tvalidation_1-rmse:103274.77344\n",
      "[53]\tvalidation_0-rmse:49694.60156\tvalidation_1-rmse:103266.95312\n",
      "[54]\tvalidation_0-rmse:49530.51562\tvalidation_1-rmse:103271.52344\n",
      "[55]\tvalidation_0-rmse:49472.33984\tvalidation_1-rmse:103277.95312\n",
      "[56]\tvalidation_0-rmse:49439.97266\tvalidation_1-rmse:103284.97656\n",
      "[57]\tvalidation_0-rmse:49357.72656\tvalidation_1-rmse:103274.13281\n",
      "[58]\tvalidation_0-rmse:49278.79297\tvalidation_1-rmse:103277.27344\n",
      "[59]\tvalidation_0-rmse:49116.51953\tvalidation_1-rmse:103275.40625\n",
      "[60]\tvalidation_0-rmse:49005.87109\tvalidation_1-rmse:103279.82812\n",
      "[61]\tvalidation_0-rmse:48983.52734\tvalidation_1-rmse:103281.32031\n",
      "[62]\tvalidation_0-rmse:48931.87891\tvalidation_1-rmse:103280.92969\n",
      "[63]\tvalidation_0-rmse:48808.25781\tvalidation_1-rmse:103259.85156\n",
      "[64]\tvalidation_0-rmse:48774.98828\tvalidation_1-rmse:103268.28906\n",
      "[65]\tvalidation_0-rmse:48719.35938\tvalidation_1-rmse:103250.46875\n",
      "[66]\tvalidation_0-rmse:48618.94531\tvalidation_1-rmse:103262.25000\n",
      "[67]\tvalidation_0-rmse:48537.23047\tvalidation_1-rmse:103309.41406\n",
      "[68]\tvalidation_0-rmse:48489.12500\tvalidation_1-rmse:103326.07031\n",
      "[69]\tvalidation_0-rmse:48421.94531\tvalidation_1-rmse:103335.02344\n",
      "[70]\tvalidation_0-rmse:48291.64844\tvalidation_1-rmse:103345.39844\n",
      "[71]\tvalidation_0-rmse:48103.20703\tvalidation_1-rmse:103331.32812\n",
      "[72]\tvalidation_0-rmse:48038.50000\tvalidation_1-rmse:103361.02344\n",
      "[73]\tvalidation_0-rmse:47962.35938\tvalidation_1-rmse:103393.56250\n",
      "[74]\tvalidation_0-rmse:47896.46875\tvalidation_1-rmse:103433.84375\n",
      "[75]\tvalidation_0-rmse:47799.31641\tvalidation_1-rmse:103452.43750\n",
      "[76]\tvalidation_0-rmse:47700.94922\tvalidation_1-rmse:103468.45312\n",
      "[77]\tvalidation_0-rmse:47657.63672\tvalidation_1-rmse:103495.00781\n",
      "[78]\tvalidation_0-rmse:47592.74609\tvalidation_1-rmse:103494.63281\n",
      "[79]\tvalidation_0-rmse:47483.16016\tvalidation_1-rmse:103546.65625\n",
      "[80]\tvalidation_0-rmse:47449.28516\tvalidation_1-rmse:103528.57812\n",
      "[81]\tvalidation_0-rmse:47343.05859\tvalidation_1-rmse:103543.14062\n",
      "[82]\tvalidation_0-rmse:47319.38672\tvalidation_1-rmse:103526.25000\n",
      "[83]\tvalidation_0-rmse:47246.51172\tvalidation_1-rmse:103531.84375\n",
      "[84]\tvalidation_0-rmse:47191.07812\tvalidation_1-rmse:103531.58594\n",
      "[85]\tvalidation_0-rmse:47181.55469\tvalidation_1-rmse:103535.32812\n",
      "[86]\tvalidation_0-rmse:47164.92969\tvalidation_1-rmse:103562.00000\n",
      "[87]\tvalidation_0-rmse:47091.16797\tvalidation_1-rmse:103550.72656\n",
      "[88]\tvalidation_0-rmse:47065.91406\tvalidation_1-rmse:103554.35938\n",
      "[89]\tvalidation_0-rmse:47003.08984\tvalidation_1-rmse:103587.12500\n",
      "[90]\tvalidation_0-rmse:46930.89844\tvalidation_1-rmse:103603.40625\n",
      "[91]\tvalidation_0-rmse:46854.02734\tvalidation_1-rmse:103634.69531\n",
      "[92]\tvalidation_0-rmse:46754.52344\tvalidation_1-rmse:103641.02344\n",
      "[93]\tvalidation_0-rmse:46626.54688\tvalidation_1-rmse:103649.75000\n",
      "[94]\tvalidation_0-rmse:46578.09766\tvalidation_1-rmse:103643.66406\n",
      "[95]\tvalidation_0-rmse:46530.74609\tvalidation_1-rmse:103676.81250\n",
      "[96]\tvalidation_0-rmse:46487.15625\tvalidation_1-rmse:103687.82031\n",
      "[97]\tvalidation_0-rmse:46438.30859\tvalidation_1-rmse:103696.59375\n",
      "[98]\tvalidation_0-rmse:46412.57031\tvalidation_1-rmse:103706.49219\n",
      "[99]\tvalidation_0-rmse:46391.50391\tvalidation_1-rmse:103714.74219\n"
     ]
    },
    {
     "data": {
      "text/plain": [
       "XGBRegressor(base_score=0.5, booster='gbtree', colsample_bylevel=1,\n",
       "             colsample_bynode=1, colsample_bytree=1.0, gamma=0, gpu_id=-1,\n",
       "             importance_type='gain', interaction_constraints='',\n",
       "             learning_rate=0.3, max_delta_step=0, max_depth=15,\n",
       "             min_child_weight=1, missing=nan, monotone_constraints='()',\n",
       "             n_estimators=100, n_jobs=8, num_parallel_tree=1, random_state=0,\n",
       "             reg_alpha=0, reg_lambda=1, scale_pos_weight=1, subsample=1,\n",
       "             tree_method='exact', validate_parameters=1, verbosity=None)"
      ]
     },
     "execution_count": 45,
     "metadata": {},
     "output_type": "execute_result"
    }
   ],
   "source": [
    "linear_model.fit(X_train, y_train)\n",
    "tree_regressor.fit(X_train, y_train)\n",
    "knn_regressor.fit(X_train, y_train)\n",
    "xgb_reg.fit(X_train, y_train, eval_set=[(X_train, y_train), (X_test, y_test)])"
   ]
  },
  {
   "cell_type": "markdown",
   "metadata": {},
   "source": [
    "Aplicamos un nuevo modelo \"XGBoosting\""
   ]
  },
  {
   "cell_type": "code",
   "execution_count": 46,
   "metadata": {},
   "outputs": [
    {
     "name": "stdout",
     "output_type": "stream",
     "text": [
      "Modelo: Regresión lineal benchmark optimizazdo\n",
      "Raíz del error cuadrático medio en Train: 178274.35121687793\n",
      "Raíz del error cuadrático medio en Test: 180621.78270728007\n"
     ]
    },
    {
     "name": "stderr",
     "output_type": "stream",
     "text": [
      "C:\\Users\\Marcos\\.conda\\envs\\datascience\\lib\\site-packages\\seaborn\\distributions.py:2557: FutureWarning: `distplot` is a deprecated function and will be removed in a future version. Please adapt your code to use either `displot` (a figure-level function with similar flexibility) or `histplot` (an axes-level function for histograms).\n",
      "  warnings.warn(msg, FutureWarning)\n",
      "C:\\Users\\Marcos\\.conda\\envs\\datascience\\lib\\site-packages\\seaborn\\distributions.py:2557: FutureWarning: `distplot` is a deprecated function and will be removed in a future version. Please adapt your code to use either `displot` (a figure-level function with similar flexibility) or `histplot` (an axes-level function for histograms).\n",
      "  warnings.warn(msg, FutureWarning)\n"
     ]
    },
    {
     "data": {
      "image/png": "[encoded data removed]",
      "text/plain": [
       "<Figure size 576x288 with 2 Axes>"
      ]
     },
     "metadata": {
      "needs_background": "light"
     },
     "output_type": "display_data"
    }
   ],
   "source": [
    "from sklearn.metrics import mean_squared_error\n",
    "modelos = ['Regresión lineal benchmark optimizazdo']\n",
    "\n",
    "for i, model in enumerate([linear_model]):\n",
    "    y_train_pred = model.predict(X_train)\n",
    "    y_test_pred = model.predict(X_test)\n",
    "    \n",
    "    print(f'Modelo: {modelos[i]}')\n",
    "    rmse_train = np.sqrt(mean_squared_error(y_train, y_train_pred))\n",
    "    rmse_test = np.sqrt(mean_squared_error(y_test, y_test_pred))\n",
    "    print(f'Raíz del error cuadrático medio en Train: {rmse_train}')\n",
    "    print(f'Raíz del error cuadrático medio en Test: {rmse_test}')\n",
    "    \n",
    "    plt.figure(figsize = (8,4))\n",
    "\n",
    "    plt.subplot(1,2,1)\n",
    "    sns.distplot(y_train - y_train_pred, bins = 20, label = 'train')\n",
    "    sns.distplot(y_test - y_test_pred, bins = 20, label = 'test')\n",
    "    plt.xlabel('errores')\n",
    "    plt.legend()\n",
    "\n",
    "    ax = plt.subplot(1,2,2)\n",
    "    ax.scatter(y_test,y_test_pred, s =2)    \n",
    "    lims = [\n",
    "    np.min([ax.get_xlim(), ax.get_ylim()]),  \n",
    "    np.max([ax.get_xlim(), ax.get_ylim()]),  \n",
    "    ]\n",
    "    \n",
    "    ax.plot(lims, lims, 'k-', alpha=0.75, zorder=0)\n",
    "    plt.xlabel('y (test)')\n",
    "    plt.ylabel('y_pred (test)')\n",
    "    \n",
    "    plt.tight_layout()\n",
    "    plt.show()"
   ]
  },
  {
   "cell_type": "code",
   "execution_count": 47,
   "metadata": {},
   "outputs": [
    {
     "name": "stdout",
     "output_type": "stream",
     "text": [
      "Modelo: Árbol de Decisión optimizado\n",
      "Raíz del error cuadrático medio en Train: 136172.96001169173\n",
      "Raíz del error cuadrático medio en Test: 146643.9965114514\n"
     ]
    },
    {
     "name": "stderr",
     "output_type": "stream",
     "text": [
      "C:\\Users\\Marcos\\.conda\\envs\\datascience\\lib\\site-packages\\seaborn\\distributions.py:2557: FutureWarning: `distplot` is a deprecated function and will be removed in a future version. Please adapt your code to use either `displot` (a figure-level function with similar flexibility) or `histplot` (an axes-level function for histograms).\n",
      "  warnings.warn(msg, FutureWarning)\n",
      "C:\\Users\\Marcos\\.conda\\envs\\datascience\\lib\\site-packages\\seaborn\\distributions.py:2557: FutureWarning: `distplot` is a deprecated function and will be removed in a future version. Please adapt your code to use either `displot` (a figure-level function with similar flexibility) or `histplot` (an axes-level function for histograms).\n",
      "  warnings.warn(msg, FutureWarning)\n"
     ]
    },
    {
     "data": {
      "image/png": "[encoded data removed]",
      "text/plain": [
       "<Figure size 576x288 with 2 Axes>"
      ]
     },
     "metadata": {
      "needs_background": "light"
     },
     "output_type": "display_data"
    }
   ],
   "source": [
    "from sklearn.metrics import mean_squared_error\n",
    "modelos = ['Árbol de Decisión optimizado']\n",
    "\n",
    "for i, model in enumerate([tree_regressor]):\n",
    "    y_train_pred = model.predict(X_train)\n",
    "    y_test_pred = model.predict(X_test)\n",
    "    \n",
    "    print(f'Modelo: {modelos[i]}')\n",
    "    rmse_train = np.sqrt(mean_squared_error(y_train, y_train_pred))\n",
    "    rmse_test = np.sqrt(mean_squared_error(y_test, y_test_pred))\n",
    "    print(f'Raíz del error cuadrático medio en Train: {rmse_train}')\n",
    "    print(f'Raíz del error cuadrático medio en Test: {rmse_test}')\n",
    "    \n",
    "    plt.figure(figsize = (8,4))\n",
    "\n",
    "    plt.subplot(1,2,1)\n",
    "    sns.distplot(y_train - y_train_pred, bins = 20, label = 'train')\n",
    "    sns.distplot(y_test - y_test_pred, bins = 20, label = 'test')\n",
    "    plt.xlabel('errores')\n",
    "    plt.legend()\n",
    "\n",
    "    ax = plt.subplot(1,2,2)\n",
    "    ax.scatter(y_test,y_test_pred, s =2)    \n",
    "    lims = [\n",
    "    np.min([ax.get_xlim(), ax.get_ylim()]),  \n",
    "    np.max([ax.get_xlim(), ax.get_ylim()]),  \n",
    "    ]\n",
    "    \n",
    "    ax.plot(lims, lims, 'k-', alpha=0.75, zorder=0)\n",
    "    plt.xlabel('y (test)')\n",
    "    plt.ylabel('y_pred (test)')\n",
    "    \n",
    "    plt.tight_layout()\n",
    "    plt.show()"
   ]
  },
  {
   "cell_type": "markdown",
   "metadata": {},
   "source": [
    "Conclusion errores: Vemos que no hay diferencias en el conjunto de test y train, con lo cual significa que la varianza es baja"
   ]
  },
  {
   "cell_type": "code",
   "execution_count": 48,
   "metadata": {},
   "outputs": [
    {
     "name": "stdout",
     "output_type": "stream",
     "text": [
      "Modelo: Vecinos más cercanos optimizado\n",
      "Raíz del error cuadrático medio en Train: 100555.23828110602\n",
      "Raíz del error cuadrático medio en Test: 121888.78082328611\n"
     ]
    },
    {
     "name": "stderr",
     "output_type": "stream",
     "text": [
      "C:\\Users\\Marcos\\.conda\\envs\\datascience\\lib\\site-packages\\seaborn\\distributions.py:2557: FutureWarning: `distplot` is a deprecated function and will be removed in a future version. Please adapt your code to use either `displot` (a figure-level function with similar flexibility) or `histplot` (an axes-level function for histograms).\n",
      "  warnings.warn(msg, FutureWarning)\n",
      "C:\\Users\\Marcos\\.conda\\envs\\datascience\\lib\\site-packages\\seaborn\\distributions.py:2557: FutureWarning: `distplot` is a deprecated function and will be removed in a future version. Please adapt your code to use either `displot` (a figure-level function with similar flexibility) or `histplot` (an axes-level function for histograms).\n",
      "  warnings.warn(msg, FutureWarning)\n"
     ]
    },
    {
     "data": {
      "image/png": "[encoded data removed]",
      "text/plain": [
       "<Figure size 576x288 with 2 Axes>"
      ]
     },
     "metadata": {
      "needs_background": "light"
     },
     "output_type": "display_data"
    }
   ],
   "source": [
    "from sklearn.metrics import mean_squared_error\n",
    "modelos = ['Vecinos más cercanos optimizado']\n",
    "\n",
    "for i, model in enumerate([knn_regressor]):\n",
    "    y_train_pred = model.predict(X_train)\n",
    "    y_test_pred = model.predict(X_test)\n",
    "    \n",
    "    print(f'Modelo: {modelos[i]}')\n",
    "    rmse_train = np.sqrt(mean_squared_error(y_train, y_train_pred))\n",
    "    rmse_test = np.sqrt(mean_squared_error(y_test, y_test_pred))\n",
    "    print(f'Raíz del error cuadrático medio en Train: {rmse_train}')\n",
    "    print(f'Raíz del error cuadrático medio en Test: {rmse_test}')\n",
    "    \n",
    "    plt.figure(figsize = (8,4))\n",
    "\n",
    "    plt.subplot(1,2,1)\n",
    "    sns.distplot(y_train - y_train_pred, bins = 20, label = 'train')\n",
    "    sns.distplot(y_test - y_test_pred, bins = 20, label = 'test')\n",
    "    plt.xlabel('errores')\n",
    "    plt.legend()\n",
    "\n",
    "    ax = plt.subplot(1,2,2)\n",
    "    ax.scatter(y_test,y_test_pred, s =2)    \n",
    "    lims = [\n",
    "    np.min([ax.get_xlim(), ax.get_ylim()]),  \n",
    "    np.max([ax.get_xlim(), ax.get_ylim()]),  \n",
    "    ]\n",
    "    \n",
    "    ax.plot(lims, lims, 'k-', alpha=0.75, zorder=0)\n",
    "    plt.xlabel('y (test)')\n",
    "    plt.ylabel('y_pred (test)')\n",
    "    \n",
    "    plt.tight_layout()\n",
    "    plt.show()"
   ]
  },
  {
   "cell_type": "markdown",
   "metadata": {},
   "source": [
    "Conclusion errores: Vemos que no hay diferencias en el conjunto de test y train, con lo cual significa que la varianza es baja"
   ]
  },
  {
   "cell_type": "code",
   "execution_count": 49,
   "metadata": {},
   "outputs": [
    {
     "name": "stdout",
     "output_type": "stream",
     "text": [
      "Modelo: XGBoost\n",
      "Raíz del error cuadrático medio en Train: 46391.538571001765\n",
      "Raíz del error cuadrático medio en Test: 103714.76370746782\n"
     ]
    },
    {
     "name": "stderr",
     "output_type": "stream",
     "text": [
      "C:\\Users\\Marcos\\.conda\\envs\\datascience\\lib\\site-packages\\seaborn\\distributions.py:2557: FutureWarning: `distplot` is a deprecated function and will be removed in a future version. Please adapt your code to use either `displot` (a figure-level function with similar flexibility) or `histplot` (an axes-level function for histograms).\n",
      "  warnings.warn(msg, FutureWarning)\n",
      "C:\\Users\\Marcos\\.conda\\envs\\datascience\\lib\\site-packages\\seaborn\\distributions.py:2557: FutureWarning: `distplot` is a deprecated function and will be removed in a future version. Please adapt your code to use either `displot` (a figure-level function with similar flexibility) or `histplot` (an axes-level function for histograms).\n",
      "  warnings.warn(msg, FutureWarning)\n"
     ]
    },
    {
     "data": {
      "image/png": "[encoded data removed]",
      "text/plain": [
       "<Figure size 576x288 with 2 Axes>"
      ]
     },
     "metadata": {
      "needs_background": "light"
     },
     "output_type": "display_data"
    }
   ],
   "source": [
    "from sklearn.metrics import mean_squared_error\n",
    "modelos = [\"XGBoost\"]\n",
    "\n",
    "for i, model in enumerate([xgb_reg]):\n",
    "    y_train_pred = model.predict(X_train)\n",
    "    y_test_pred = model.predict(X_test)\n",
    "    \n",
    "    print(f'Modelo: {modelos[i]}')\n",
    "    rmse_train = np.sqrt(mean_squared_error(y_train, y_train_pred))\n",
    "    rmse_test = np.sqrt(mean_squared_error(y_test, y_test_pred))\n",
    "    print(f'Raíz del error cuadrático medio en Train: {rmse_train}')\n",
    "    print(f'Raíz del error cuadrático medio en Test: {rmse_test}')\n",
    "    \n",
    "    plt.figure(figsize = (8,4))\n",
    "\n",
    "    plt.subplot(1,2,1)\n",
    "    sns.distplot(y_train - y_train_pred, bins = 20, label = 'train')\n",
    "    sns.distplot(y_test - y_test_pred, bins = 20, label = 'test')\n",
    "    plt.xlabel('errores')\n",
    "    plt.legend()\n",
    "\n",
    "    ax = plt.subplot(1,2,2)\n",
    "    ax.scatter(y_test,y_test_pred, s =2)    \n",
    "    lims = [\n",
    "    np.min([ax.get_xlim(), ax.get_ylim()]),  \n",
    "    np.max([ax.get_xlim(), ax.get_ylim()]),  \n",
    "    ]\n",
    "    \n",
    "    ax.plot(lims, lims, 'k-', alpha=0.75, zorder=0)\n",
    "    plt.xlabel('y (test)')\n",
    "    plt.ylabel('y_pred (test)')\n",
    "    \n",
    "    plt.tight_layout()\n",
    "    plt.show()"
   ]
  },
  {
   "cell_type": "markdown",
   "metadata": {},
   "source": [
    "Interpretacion de errores: Vemos que en el conjunto de train y Test hay un poco mas de diferencia frente a los modelos anteriores, en este caso hay un nivel de varianza mas elevado, aun asi en ninguno de los modelos anteriores detectamos overfitting"
   ]
  },
  {
   "cell_type": "markdown",
   "metadata": {},
   "source": [
    "Ahora justificamos la eleccion de los hiperparametros, para eso vamos a usar gridsearch."
   ]
  },
  {
   "cell_type": "code",
   "execution_count": 50,
   "metadata": {},
   "outputs": [
    {
     "name": "stdout",
     "output_type": "stream",
     "text": [
      "Fitting 5 folds for each of 18 candidates, totalling 90 fits\n"
     ]
    },
    {
     "data": {
      "text/plain": [
       "GridSearchCV(cv=5,\n",
       "             estimator=XGBRFRegressor(base_score=None, booster=None,\n",
       "                                      colsample_bylevel=None,\n",
       "                                      colsample_bytree=None, gamma=None,\n",
       "                                      gpu_id=None, importance_type='gain',\n",
       "                                      interaction_constraints=None,\n",
       "                                      max_delta_step=None, max_depth=None,\n",
       "                                      min_child_weight=None, missing=nan,\n",
       "                                      monotone_constraints=None,\n",
       "                                      n_estimators=100, n_jobs=None,\n",
       "                                      num_parallel_tree=None,\n",
       "                                      objective='reg:squarederror',\n",
       "                                      random_state=None, reg_alpha=None,\n",
       "                                      scale_pos_weight=None, tree_method=None,\n",
       "                                      validate_parameters=None,\n",
       "                                      verbosity=None),\n",
       "             param_grid={'colsample_bytree': [0.7, 1.0],\n",
       "                         'learning_rate': [0.05, 0.15, 0.3],\n",
       "                         'max_depth': [10, 12, 13], 'n_estimators': [100]},\n",
       "             verbose=True)"
      ]
     },
     "execution_count": 50,
     "metadata": {},
     "output_type": "execute_result"
    }
   ],
   "source": [
    "from sklearn.model_selection import GridSearchCV\n",
    "parameters = {\n",
    "                \"learning_rate\":[0.05, 0.15, 0.30],\n",
    "                \"max_depth\":[10,12,13],\n",
    "                \"colsample_bytree\":[0.7, 1.0],\n",
    "                \"n_estimators\":[100],\n",
    "}\n",
    "\n",
    "xgb_grid = GridSearchCV(xgb.XGBRFRegressor(),\n",
    "                        parameters,\n",
    "                        cv = 5,\n",
    "                        verbose = True)\n",
    "\n",
    "xgb_grid.fit(X_train,y_train)"
   ]
  },
  {
   "cell_type": "markdown",
   "metadata": {},
   "source": [
    "Si bien Gridsearch nos dice que la cantidad de arboles que obtendra el mejor resultado es 100, veremos mas abajo que no hay mucha diferencia con 15 arboles, con lo cual utilizar ambos hiperparametros obtendria resultados similares"
   ]
  },
  {
   "cell_type": "code",
   "execution_count": 51,
   "metadata": {},
   "outputs": [
    {
     "name": "stdout",
     "output_type": "stream",
     "text": [
      "0.06762047270840713\n",
      "{'colsample_bytree': 1.0, 'learning_rate': 0.3, 'max_depth': 13, 'n_estimators': 100}\n"
     ]
    }
   ],
   "source": [
    "print(xgb_grid.best_score_)\n",
    "print(xgb_grid.best_params_)"
   ]
  },
  {
   "cell_type": "code",
   "execution_count": 52,
   "metadata": {},
   "outputs": [],
   "source": [
    "#xgb_reg.get_booster().get_score(importance_type=\"gain\")"
   ]
  },
  {
   "cell_type": "markdown",
   "metadata": {},
   "source": [
    "Variables mas importantes en nuestro dataset"
   ]
  },
  {
   "cell_type": "code",
   "execution_count": 53,
   "metadata": {},
   "outputs": [
    {
     "data": {
      "text/plain": [
       "<AxesSubplot:>"
      ]
     },
     "execution_count": 53,
     "metadata": {},
     "output_type": "execute_result"
    },
    {
     "data": {
      "image/png": "[encoded data removed]",
      "text/plain": [
       "<Figure size 1152x720 with 1 Axes>"
      ]
     },
     "metadata": {
      "needs_background": "light"
     },
     "output_type": "display_data"
    }
   ],
   "source": [
    "feature_important = model.get_booster().get_score(importance_type='weight')\n",
    "keys = list(feature_important.keys())\n",
    "values = list(feature_important.values())\n",
    "\n",
    "X = pd.DataFrame(data=values, index=keys, columns=[\"score\"]).sort_values(by = \"score\", ascending=True)\n",
    "X.plot(figsize = (16,10), kind='barh')"
   ]
  },
  {
   "cell_type": "markdown",
   "metadata": {},
   "source": [
    "Vemos que la variable mas importante de nuestras variables predictoras es \"Surface_total\", la que mas nos va ayudar a predecir el precio"
   ]
  },
  {
   "cell_type": "code",
   "execution_count": 54,
   "metadata": {},
   "outputs": [
    {
     "data": {
      "text/plain": [
       "<AxesSubplot:>"
      ]
     },
     "execution_count": 54,
     "metadata": {},
     "output_type": "execute_result"
    },
    {
     "data": {
      "image/png": "[encoded data removed]",
      "text/plain": [
       "<Figure size 1080x576 with 1 Axes>"
      ]
     },
     "metadata": {
      "needs_background": "light"
     },
     "output_type": "display_data"
    }
   ],
   "source": [
    "importances=xgb_reg.feature_importances_\n",
    "columns=X_train.columns\n",
    "indices=np.argsort(importances)[::-1]\n",
    "plt.figure(figsize=(15,8))\n",
    "sns.barplot(y = columns[indices],x=importances[indices])"
   ]
  },
  {
   "cell_type": "code",
   "execution_count": 62,
   "metadata": {},
   "outputs": [],
   "source": [
    "evals_results = xgb_reg.evals_result()"
   ]
  },
  {
   "cell_type": "markdown",
   "metadata": {},
   "source": [
    "La variable mas importante en nuestro modelo de XGBoost es el barrio 34, tambien tiene sentido que dentro las variables importantes encontremos a surface_total"
   ]
  },
  {
   "cell_type": "code",
   "execution_count": 63,
   "metadata": {},
   "outputs": [
    {
     "data": {
      "text/plain": [
       "Text(0.5, 0, 'Número de árboles')"
      ]
     },
     "execution_count": 63,
     "metadata": {},
     "output_type": "execute_result"
    },
    {
     "data": {
      "image/png": "[encoded data removed]",
      "text/plain": [
       "<Figure size 432x288 with 1 Axes>"
      ]
     },
     "metadata": {
      "needs_background": "light"
     },
     "output_type": "display_data"
    }
   ],
   "source": [
    "error_test = []\n",
    "error_train = []\n",
    "\n",
    "for prediccion_test in evals_results['validation_1']['rmse']:\n",
    "    error_test.append(prediccion_test)\n",
    "    \n",
    "for prediccion_train in evals_results['validation_0']['rmse']:    \n",
    "    error_train.append(prediccion_train)\n",
    "    \n",
    "plt.plot(range(1, len(error_test) + 1), error_test, label = 'Test')\n",
    "plt.plot(range(1, len(error_test) + 1), error_train, label = 'Train')\n",
    "plt.legend()\n",
    "plt.ylabel('rmse')\n",
    "plt.xlabel('Número de árboles')"
   ]
  },
  {
   "cell_type": "markdown",
   "metadata": {},
   "source": [
    "Entendemos que el rendimiento del modelo se estabiliza en aproximadamente 15 arboles"
   ]
  },
  {
   "cell_type": "markdown",
   "metadata": {},
   "source": [
    "Probemos y experimentemos que diferencias encontramos con 15 y 100 arboles, recordemos que 100 arboles es lo que habiamos obtenido de haber aplicado gridsearch"
   ]
  },
  {
   "cell_type": "code",
   "execution_count": 64,
   "metadata": {},
   "outputs": [],
   "source": [
    "xgb_reg = xgb.XGBRegressor(n_estimators=15, max_depth=15, colsample_bytree = 1.0, learning_rate = 0.3)"
   ]
  },
  {
   "cell_type": "code",
   "execution_count": 65,
   "metadata": {},
   "outputs": [
    {
     "name": "stdout",
     "output_type": "stream",
     "text": [
      "[0]\tvalidation_0-rmse:291175.78125\tvalidation_1-rmse:293134.00000\n",
      "[1]\tvalidation_0-rmse:217594.28125\tvalidation_1-rmse:222794.92188\n",
      "[2]\tvalidation_0-rmse:166661.73438\tvalidation_1-rmse:177168.39062\n",
      "[3]\tvalidation_0-rmse:132036.00000\tvalidation_1-rmse:148185.57812\n",
      "[4]\tvalidation_0-rmse:107387.17188\tvalidation_1-rmse:129175.64844\n",
      "[5]\tvalidation_0-rmse:90929.67188\tvalidation_1-rmse:117955.97656\n",
      "[6]\tvalidation_0-rmse:79795.38281\tvalidation_1-rmse:111600.22656\n",
      "[7]\tvalidation_0-rmse:72201.88281\tvalidation_1-rmse:107914.03125\n",
      "[8]\tvalidation_0-rmse:66907.49219\tvalidation_1-rmse:105798.13281\n",
      "[9]\tvalidation_0-rmse:63343.67188\tvalidation_1-rmse:104663.68750\n",
      "[10]\tvalidation_0-rmse:60765.47656\tvalidation_1-rmse:104269.82031\n",
      "[11]\tvalidation_0-rmse:59082.23047\tvalidation_1-rmse:103978.67188\n",
      "[12]\tvalidation_0-rmse:57951.94141\tvalidation_1-rmse:103680.92969\n",
      "[13]\tvalidation_0-rmse:56977.40234\tvalidation_1-rmse:103585.03906\n",
      "[14]\tvalidation_0-rmse:56318.85938\tvalidation_1-rmse:103375.95312\n"
     ]
    },
    {
     "data": {
      "text/plain": [
       "XGBRegressor(base_score=0.5, booster='gbtree', colsample_bylevel=1,\n",
       "             colsample_bynode=1, colsample_bytree=1.0, gamma=0, gpu_id=-1,\n",
       "             importance_type='gain', interaction_constraints='',\n",
       "             learning_rate=0.3, max_delta_step=0, max_depth=15,\n",
       "             min_child_weight=1, missing=nan, monotone_constraints='()',\n",
       "             n_estimators=15, n_jobs=8, num_parallel_tree=1, random_state=0,\n",
       "             reg_alpha=0, reg_lambda=1, scale_pos_weight=1, subsample=1,\n",
       "             tree_method='exact', validate_parameters=1, verbosity=None)"
      ]
     },
     "execution_count": 65,
     "metadata": {},
     "output_type": "execute_result"
    }
   ],
   "source": [
    "xgb_reg.fit(X_train, y_train, eval_set=[(X_train, y_train), (X_test, y_test)])"
   ]
  },
  {
   "cell_type": "code",
   "execution_count": 66,
   "metadata": {},
   "outputs": [
    {
     "name": "stdout",
     "output_type": "stream",
     "text": [
      "Modelo: XGBoost\n",
      "Raíz del error cuadrático medio en Train: 56318.918559131256\n",
      "Raíz del error cuadrático medio en Test: 103375.97716230543\n"
     ]
    },
    {
     "name": "stderr",
     "output_type": "stream",
     "text": [
      "C:\\Users\\Marcos\\.conda\\envs\\datascience\\lib\\site-packages\\seaborn\\distributions.py:2557: FutureWarning: `distplot` is a deprecated function and will be removed in a future version. Please adapt your code to use either `displot` (a figure-level function with similar flexibility) or `histplot` (an axes-level function for histograms).\n",
      "  warnings.warn(msg, FutureWarning)\n",
      "C:\\Users\\Marcos\\.conda\\envs\\datascience\\lib\\site-packages\\seaborn\\distributions.py:2557: FutureWarning: `distplot` is a deprecated function and will be removed in a future version. Please adapt your code to use either `displot` (a figure-level function with similar flexibility) or `histplot` (an axes-level function for histograms).\n",
      "  warnings.warn(msg, FutureWarning)\n"
     ]
    },
    {
     "data": {
      "image/png": "[encoded data removed]",
      "text/plain": [
       "<Figure size 576x288 with 2 Axes>"
      ]
     },
     "metadata": {
      "needs_background": "light"
     },
     "output_type": "display_data"
    }
   ],
   "source": [
    "from sklearn.metrics import mean_squared_error\n",
    "modelos = [\"XGBoost\"]\n",
    "\n",
    "for i, model in enumerate([xgb_reg]):\n",
    "    y_train_pred = model.predict(X_train)\n",
    "    y_test_pred = model.predict(X_test)\n",
    "    \n",
    "    print(f'Modelo: {modelos[i]}')\n",
    "    rmse_train = np.sqrt(mean_squared_error(y_train, y_train_pred))\n",
    "    rmse_test = np.sqrt(mean_squared_error(y_test, y_test_pred))\n",
    "    print(f'Raíz del error cuadrático medio en Train: {rmse_train}')\n",
    "    print(f'Raíz del error cuadrático medio en Test: {rmse_test}')\n",
    "    \n",
    "    plt.figure(figsize = (8,4))\n",
    "\n",
    "    plt.subplot(1,2,1)\n",
    "    sns.distplot(y_train - y_train_pred, bins = 20, label = 'train')\n",
    "    sns.distplot(y_test - y_test_pred, bins = 20, label = 'test')\n",
    "    plt.xlabel('errores')\n",
    "    plt.legend()\n",
    "\n",
    "    ax = plt.subplot(1,2,2)\n",
    "    ax.scatter(y_test,y_test_pred, s =2)    \n",
    "    lims = [\n",
    "    np.min([ax.get_xlim(), ax.get_ylim()]),  \n",
    "    np.max([ax.get_xlim(), ax.get_ylim()]),  \n",
    "    ]\n",
    "    \n",
    "    ax.plot(lims, lims, 'k-', alpha=0.75, zorder=0)\n",
    "    plt.xlabel('y (test)')\n",
    "    plt.ylabel('y_pred (test)')\n",
    "    \n",
    "    plt.tight_layout()\n",
    "    plt.show()"
   ]
  },
  {
   "cell_type": "markdown",
   "metadata": {},
   "source": [
    "Vemos que con 15 arboles la diferencia del RMSE no es muy significativa, con lo cual podriamos optimizar nuestro arbol y tendriamos excelentes resultados con solo 15 arboles."
   ]
  },
  {
   "cell_type": "markdown",
   "metadata": {},
   "source": [
    "Conclusion final \n",
    "\n",
    "A partir de un preprocesamiento de datos con previo escalado e imputacion con KNN imputer pudimos darle mejor rendimiento y potencialidad a nuestros features, asimismo como el tratamiento de sigmas a los outliers de las variables, logramos mejorar los resultados del proyecto 1, simplemente optimizando las mismas features.\n"
   ]
  },
  {
   "cell_type": "markdown",
   "metadata": {},
   "source": [
    "Agregando nuevas variables al dataset con el encoding de la variable l3, nos brindo enriquecimiento para nuestro modelo XGBoost."
   ]
  },
  {
   "cell_type": "markdown",
   "metadata": {},
   "source": [
    "Dentro de la aplicacion de un modelo mucho mas avanzado que los anteriores, XGBoost nos dio los resultados que esperabamos, buscabamos como objetivo principal disminuir aun mas lo errores de los modelos anteriores, la aplicacion de gridsearch nos ayudo a encontrar los mejores hiperparametros del modelo, pero pudimos obtener resultados similares a partir del grafico del error la cantidad de arboles suficientes para alcanzar buenos resultados.Quizas estaria bueno probar resultados con randomsearch para un proximo proyecto"
   ]
  },
  {
   "cell_type": "markdown",
   "metadata": {},
   "source": [
    "En sintesis, alcanzamos y validamos la hipotesis del proyecto que se basaba en mejorar nuestros resultados con lo mencionado anteriormente."
   ]
  },
  {
   "cell_type": "markdown",
   "metadata": {},
   "source": [
    "."
   ]
  },
  {
   "cell_type": "markdown",
   "metadata": {},
   "source": [
    "."
   ]
  },
  {
   "cell_type": "markdown",
   "metadata": {},
   "source": [
    "."
   ]
  },
  {
   "cell_type": "markdown",
   "metadata": {},
   "source": [
    "Desafio Opcional Clustering:(Experimentando)Agradezco sugerencias."
   ]
  },
  {
   "cell_type": "code",
   "execution_count": 67,
   "metadata": {},
   "outputs": [
    {
     "data": {
      "text/html": [
       "<div>\n",
       "<style scoped>\n",
       "    .dataframe tbody tr th:only-of-type {\n",
       "        vertical-align: middle;\n",
       "    }\n",
       "\n",
       "    .dataframe tbody tr th {\n",
       "        vertical-align: top;\n",
       "    }\n",
       "\n",
       "    .dataframe thead th {\n",
       "        text-align: right;\n",
       "    }\n",
       "</style>\n",
       "<table border=\"1\" class=\"dataframe\">\n",
       "  <thead>\n",
       "    <tr style=\"text-align: right;\">\n",
       "      <th></th>\n",
       "      <th>price</th>\n",
       "      <th>rooms</th>\n",
       "      <th>bedrooms</th>\n",
       "      <th>bathrooms</th>\n",
       "      <th>surface_total</th>\n",
       "      <th>surface_covered</th>\n",
       "      <th>property_type</th>\n",
       "      <th>l3</th>\n",
       "      <th>title</th>\n",
       "    </tr>\n",
       "  </thead>\n",
       "  <tbody>\n",
       "    <tr>\n",
       "      <th>0</th>\n",
       "      <td>153000.0</td>\n",
       "      <td>7.0</td>\n",
       "      <td>7.0</td>\n",
       "      <td>2.0</td>\n",
       "      <td>140.0</td>\n",
       "      <td>140.0</td>\n",
       "      <td>Departamento</td>\n",
       "      <td>San Cristobal</td>\n",
       "      <td>***Venta semipiso centro, ideal hostel*****</td>\n",
       "    </tr>\n",
       "    <tr>\n",
       "      <th>1</th>\n",
       "      <td>159000.0</td>\n",
       "      <td>2.0</td>\n",
       "      <td>1.0</td>\n",
       "      <td>2.0</td>\n",
       "      <td>70.0</td>\n",
       "      <td>58.0</td>\n",
       "      <td>PH</td>\n",
       "      <td>Boedo</td>\n",
       "      <td>Espectacular PH reciclado en Boedo sin expensas.</td>\n",
       "    </tr>\n",
       "    <tr>\n",
       "      <th>2</th>\n",
       "      <td>125000.0</td>\n",
       "      <td>2.0</td>\n",
       "      <td>1.0</td>\n",
       "      <td>1.0</td>\n",
       "      <td>45.0</td>\n",
       "      <td>45.0</td>\n",
       "      <td>PH</td>\n",
       "      <td>Palermo</td>\n",
       "      <td>Depto.tipo casa de 2 ambientes en Venta en Pal...</td>\n",
       "    </tr>\n",
       "    <tr>\n",
       "      <th>3</th>\n",
       "      <td>295000.0</td>\n",
       "      <td>2.0</td>\n",
       "      <td>1.0</td>\n",
       "      <td>1.0</td>\n",
       "      <td>85.0</td>\n",
       "      <td>50.0</td>\n",
       "      <td>PH</td>\n",
       "      <td>Palermo</td>\n",
       "      <td>COSTA RICA 5800 / PALERMO HOLLYWOOD / VENTA PH...</td>\n",
       "    </tr>\n",
       "    <tr>\n",
       "      <th>5</th>\n",
       "      <td>150000.0</td>\n",
       "      <td>2.0</td>\n",
       "      <td>1.0</td>\n",
       "      <td>1.0</td>\n",
       "      <td>56.0</td>\n",
       "      <td>56.0</td>\n",
       "      <td>PH</td>\n",
       "      <td>Villa Crespo</td>\n",
       "      <td>Depto.tipo casa de 2 ambientes en Venta en Vil...</td>\n",
       "    </tr>\n",
       "  </tbody>\n",
       "</table>\n",
       "</div>"
      ],
      "text/plain": [
       "      price  rooms  bedrooms  bathrooms  surface_total  surface_covered  \\\n",
       "0  153000.0    7.0       7.0        2.0          140.0            140.0   \n",
       "1  159000.0    2.0       1.0        2.0           70.0             58.0   \n",
       "2  125000.0    2.0       1.0        1.0           45.0             45.0   \n",
       "3  295000.0    2.0       1.0        1.0           85.0             50.0   \n",
       "5  150000.0    2.0       1.0        1.0           56.0             56.0   \n",
       "\n",
       "  property_type             l3  \\\n",
       "0  Departamento  San Cristobal   \n",
       "1            PH          Boedo   \n",
       "2            PH        Palermo   \n",
       "3            PH        Palermo   \n",
       "5            PH   Villa Crespo   \n",
       "\n",
       "                                               title  \n",
       "0        ***Venta semipiso centro, ideal hostel*****  \n",
       "1   Espectacular PH reciclado en Boedo sin expensas.  \n",
       "2  Depto.tipo casa de 2 ambientes en Venta en Pal...  \n",
       "3  COSTA RICA 5800 / PALERMO HOLLYWOOD / VENTA PH...  \n",
       "5  Depto.tipo casa de 2 ambientes en Venta en Vil...  "
      ]
     },
     "execution_count": 67,
     "metadata": {},
     "output_type": "execute_result"
    }
   ],
   "source": [
    "data_2 = data.copy()\n",
    "data_2.head()"
   ]
  },
  {
   "cell_type": "code",
   "execution_count": 68,
   "metadata": {},
   "outputs": [],
   "source": [
    "data_2.drop([\"property_type\",\"title\",\"price\",\"surface_covered\",\"bedrooms\",],axis = 1,inplace = True)"
   ]
  },
  {
   "cell_type": "code",
   "execution_count": 69,
   "metadata": {},
   "outputs": [
    {
     "data": {
      "text/html": [
       "<div>\n",
       "<style scoped>\n",
       "    .dataframe tbody tr th:only-of-type {\n",
       "        vertical-align: middle;\n",
       "    }\n",
       "\n",
       "    .dataframe tbody tr th {\n",
       "        vertical-align: top;\n",
       "    }\n",
       "\n",
       "    .dataframe thead th {\n",
       "        text-align: right;\n",
       "    }\n",
       "</style>\n",
       "<table border=\"1\" class=\"dataframe\">\n",
       "  <thead>\n",
       "    <tr style=\"text-align: right;\">\n",
       "      <th></th>\n",
       "      <th>rooms</th>\n",
       "      <th>bathrooms</th>\n",
       "      <th>surface_total</th>\n",
       "      <th>l3</th>\n",
       "    </tr>\n",
       "  </thead>\n",
       "  <tbody>\n",
       "    <tr>\n",
       "      <th>0</th>\n",
       "      <td>6</td>\n",
       "      <td>1</td>\n",
       "      <td>125</td>\n",
       "      <td>38</td>\n",
       "    </tr>\n",
       "    <tr>\n",
       "      <th>1</th>\n",
       "      <td>1</td>\n",
       "      <td>1</td>\n",
       "      <td>55</td>\n",
       "      <td>8</td>\n",
       "    </tr>\n",
       "    <tr>\n",
       "      <th>2</th>\n",
       "      <td>1</td>\n",
       "      <td>0</td>\n",
       "      <td>30</td>\n",
       "      <td>26</td>\n",
       "    </tr>\n",
       "    <tr>\n",
       "      <th>3</th>\n",
       "      <td>1</td>\n",
       "      <td>0</td>\n",
       "      <td>70</td>\n",
       "      <td>26</td>\n",
       "    </tr>\n",
       "    <tr>\n",
       "      <th>5</th>\n",
       "      <td>1</td>\n",
       "      <td>0</td>\n",
       "      <td>41</td>\n",
       "      <td>44</td>\n",
       "    </tr>\n",
       "  </tbody>\n",
       "</table>\n",
       "</div>"
      ],
      "text/plain": [
       "   rooms  bathrooms  surface_total  l3\n",
       "0      6          1            125  38\n",
       "1      1          1             55   8\n",
       "2      1          0             30  26\n",
       "3      1          0             70  26\n",
       "5      1          0             41  44"
      ]
     },
     "execution_count": 69,
     "metadata": {},
     "output_type": "execute_result"
    }
   ],
   "source": [
    "from sklearn.preprocessing import LabelEncoder\n",
    "data_encode2=data_2.filter([\"l3\"])\n",
    "data_encode2=data_2.apply(LabelEncoder().fit_transform)\n",
    "data_encode2.head()"
   ]
  },
  {
   "cell_type": "code",
   "execution_count": 70,
   "metadata": {},
   "outputs": [],
   "source": [
    "from sklearn.cluster import KMeans\n",
    "from sklearn.metrics import pairwise_distances_argmin_min\n",
    " \n",
    "%matplotlib inline\n",
    "from mpl_toolkits.mplot3d import Axes3D\n",
    "plt.rcParams['figure.figsize'] = (16, 9)\n",
    "plt.style.use('ggplot')"
   ]
  },
  {
   "cell_type": "code",
   "execution_count": 71,
   "metadata": {},
   "outputs": [
    {
     "data": {
      "text/plain": [
       "(81622, 3)"
      ]
     },
     "execution_count": 71,
     "metadata": {},
     "output_type": "execute_result"
    }
   ],
   "source": [
    "X = np.array(data_encode2[[\"surface_total\",\"rooms\",\"bathrooms\"]])\n",
    "y = np.array(data_encode2[\"l3\"])\n",
    "X.shape"
   ]
  },
  {
   "cell_type": "code",
   "execution_count": 72,
   "metadata": {},
   "outputs": [
    {
     "data": {
      "image/png": "[encoded data removed]",
      "text/plain": [
       "<Figure size 1152x648 with 1 Axes>"
      ]
     },
     "metadata": {},
     "output_type": "display_data"
    }
   ],
   "source": [
    "Nc = range(1, 20)\n",
    "kmeans = [KMeans(n_clusters=i) for i in Nc]\n",
    "kmeans\n",
    "score = [kmeans[i].fit(X).score(X) for i in range(len(kmeans))]\n",
    "score\n",
    "plt.plot(Nc,score)\n",
    "plt.xlabel('Number of Clusters')\n",
    "plt.ylabel('Score')\n",
    "plt.title('Elbow Curve')\n",
    "plt.show()\n"
   ]
  },
  {
   "cell_type": "markdown",
   "metadata": {},
   "source": [
    "Entendemos nuestro numero de clusters ideales para nuestro modelo k-means"
   ]
  },
  {
   "cell_type": "code",
   "execution_count": 73,
   "metadata": {},
   "outputs": [
    {
     "name": "stdout",
     "output_type": "stream",
     "text": [
      "[[3.36150098e+01 1.12282850e+00 2.45376393e-01]\n",
      " [2.44227068e+02 4.03768666e+00 1.93221142e+00]\n",
      " [7.52397418e+01 2.32192649e+00 7.33008555e-01]\n",
      " [4.12640175e+02 4.94117647e+00 2.47997497e+00]\n",
      " [1.41262416e+02 3.16423036e+00 1.38886932e+00]]\n"
     ]
    }
   ],
   "source": [
    "kmeans = KMeans(n_clusters=5).fit(X)\n",
    "centroids = kmeans.cluster_centers_\n",
    "print(centroids)"
   ]
  },
  {
   "cell_type": "markdown",
   "metadata": {},
   "source": [
    "Entrenamos nuestros centroides para crear los clusters"
   ]
  },
  {
   "cell_type": "code",
   "execution_count": 74,
   "metadata": {},
   "outputs": [
    {
     "data": {
      "text/plain": [
       "<mpl_toolkits.mplot3d.art3d.Path3DCollection at 0x150c3f63130>"
      ]
     },
     "execution_count": 74,
     "metadata": {},
     "output_type": "execute_result"
    },
    {
     "data": {
      "image/png": "[encoded data removed]",
      "text/plain": [
       "<Figure size 1152x648 with 1 Axes>"
      ]
     },
     "metadata": {},
     "output_type": "display_data"
    }
   ],
   "source": [
    "labels = kmeans.predict(X)\n",
    "C = kmeans.cluster_centers_\n",
    "colores=['red','green','blue','cyan','yellow']\n",
    "asignar=[]\n",
    "for row in labels:\n",
    "    asignar.append(colores[row])\n",
    "\n",
    "fig = plt.figure()\n",
    "ax = Axes3D(fig)\n",
    "ax.scatter(X[:, 0], X[:, 1], X[:, 2], c=asignar,s=60)\n",
    "ax.scatter(C[:, 0], C[:, 1], C[:, 2], marker='*', c=colores, s=1000)"
   ]
  },
  {
   "cell_type": "markdown",
   "metadata": {},
   "source": [
    "-------------------------------------------------------------------------------------------------------------"
   ]
  },
  {
   "cell_type": "code",
   "execution_count": null,
   "metadata": {},
   "outputs": [],
   "source": []
  }
 ],
 "metadata": {
  "colab": {
   "collapsed_sections": [],
   "name": "Proyecto 2.ipynb",
   "provenance": []
  },
  "kernelspec": {
   "display_name": "Python 3",
   "language": "python",
   "name": "python3"
  },
  "language_info": {
   "codemirror_mode": {
    "name": "ipython",
    "version": 3
   },
   "file_extension": ".py",
   "mimetype": "text/x-python",
   "name": "python",
   "nbconvert_exporter": "python",
   "pygments_lexer": "ipython3",
   "version": "3.7.2"
  }
 },
 "nbformat": 4,
 "nbformat_minor": 4
}
